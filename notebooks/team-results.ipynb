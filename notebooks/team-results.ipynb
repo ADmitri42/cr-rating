{
 "cells": [
  {
   "cell_type": "code",
   "execution_count": 1,
   "id": "5e8ce477-94e8-4d6a-8043-54c3ebf40f69",
   "metadata": {},
   "outputs": [],
   "source": [
    "import os\n",
    "import sys\n",
    "from pathlib import Path\n",
    "from collections import defaultdict\n",
    "\n",
    "from tqdm import tqdm\n",
    "import pandas as pd\n",
    "import yaml\n",
    "\n",
    "cwd = Path.cwd()\n",
    "if cwd.name == 'notebooks':\n",
    "    os.chdir(cwd.parent)\n",
    "sys.path.append('./scripts')\n",
    "\n",
    "from cr_racing_results import RaceResults"
   ]
  },
  {
   "cell_type": "code",
   "execution_count": 71,
   "id": "774932ce-66cc-49ea-9e23-430e004cc718",
   "metadata": {},
   "outputs": [],
   "source": [
    "def get_team_results(race_results: pd.DataFrame) -> pd.DataFrame:\n",
    "    team_gr = race_results.loc[race_results.status == 'Q'].groupby('team')\n",
    "    n_riders = team_gr.name.count()\n",
    "    results = team_gr.result_time.nsmallest(3).groupby(level=0).sum()\n",
    "    n_riders.name = 'n_riders'\n",
    "    team_results = pd.DataFrame([n_riders, results]).T\n",
    "    team_results.loc[team_results.n_riders > 3, 'n_riders'] = 3\n",
    "    team_results = team_results.sort_values(['n_riders', 'result_time'], ascending=[False, True]).reset_index()\n",
    "    team_results['place'] = team_results.index + 1\n",
    "    return team_results.loc[:, ['team', 'result_time', 'place']]"
   ]
  },
  {
   "cell_type": "code",
   "execution_count": 79,
   "id": "23312f48-dd45-49cf-92b4-233e196f4dfe",
   "metadata": {},
   "outputs": [],
   "source": [
    "racer_teams = defaultdict(list)\n",
    "for race_folder in os.listdir('data/races'):\n",
    "    race = RaceResults.load(os.path.join('data/races', race_folder))\n",
    "    for cluster, result in race.group.items():\n",
    "        racer_teams[cluster].append(result.loc[result.status == 'Q', ['name', 'year_of_birth', 'team']])"
   ]
  },
  {
   "cell_type": "code",
   "execution_count": 92,
   "id": "c52afb89-fb5b-4364-a821-33fe4c531fbe",
   "metadata": {},
   "outputs": [],
   "source": [
    "df = pd.concat(racer_teams['A']).drop_duplicates()"
   ]
  },
  {
   "cell_type": "code",
   "execution_count": 95,
   "id": "667cdab3-4cec-4ef0-9665-9ae476916f6d",
   "metadata": {},
   "outputs": [
    {
     "data": {
      "text/plain": [
       "name                year_of_birth\n",
       "Музычкин Антон      1994             0\n",
       "Обыдённов Алексей   1976             0\n",
       "Овсянников Никита   1993             0\n",
       "Овчинников Серафим  1990             0\n",
       "Одинцов Иван        2003             0\n",
       "                                    ..\n",
       "Першуков Михаил     1972             3\n",
       "Демёхин Андрей      1972             3\n",
       "Беликов Юрий        1987             3\n",
       "Шамбер Владислав    1974             3\n",
       "Жак Михаил          1979             3\n",
       "Name: team, Length: 187, dtype: int64"
      ]
     },
     "execution_count": 95,
     "metadata": {},
     "output_type": "execute_result"
    }
   ],
   "source": [
    "df.groupby(['name', 'year_of_birth']).team.count().sort_values()"
   ]
  },
  {
   "cell_type": "code",
   "execution_count": 98,
   "id": "c824fca7-3dc8-4718-bdf6-0c7303c0f98f",
   "metadata": {},
   "outputs": [
    {
     "data": {
      "text/html": [
       "<div>\n",
       "<style scoped>\n",
       "    .dataframe tbody tr th:only-of-type {\n",
       "        vertical-align: middle;\n",
       "    }\n",
       "\n",
       "    .dataframe tbody tr th {\n",
       "        vertical-align: top;\n",
       "    }\n",
       "\n",
       "    .dataframe thead th {\n",
       "        text-align: right;\n",
       "    }\n",
       "</style>\n",
       "<table border=\"1\" class=\"dataframe\">\n",
       "  <thead>\n",
       "    <tr style=\"text-align: right;\">\n",
       "      <th></th>\n",
       "      <th>name</th>\n",
       "      <th>year_of_birth</th>\n",
       "      <th>team</th>\n",
       "    </tr>\n",
       "  </thead>\n",
       "  <tbody>\n",
       "    <tr>\n",
       "      <th>28</th>\n",
       "      <td>Демёхин Андрей</td>\n",
       "      <td>1972</td>\n",
       "      <td>Кластер А. Магадан А</td>\n",
       "    </tr>\n",
       "    <tr>\n",
       "      <th>33</th>\n",
       "      <td>Демёхин Андрей</td>\n",
       "      <td>1972</td>\n",
       "      <td>Магадан. Кластер А</td>\n",
       "    </tr>\n",
       "    <tr>\n",
       "      <th>49</th>\n",
       "      <td>Демёхин Андрей</td>\n",
       "      <td>1972</td>\n",
       "      <td>Магадан</td>\n",
       "    </tr>\n",
       "  </tbody>\n",
       "</table>\n",
       "</div>"
      ],
      "text/plain": [
       "              name  year_of_birth                  team\n",
       "28  Демёхин Андрей           1972  Кластер А. Магадан А\n",
       "33  Демёхин Андрей           1972    Магадан. Кластер А\n",
       "49  Демёхин Андрей           1972               Магадан"
      ]
     },
     "execution_count": 98,
     "metadata": {},
     "output_type": "execute_result"
    }
   ],
   "source": [
    "df.loc[(df.name == 'Демёхин Андрей')]"
   ]
  },
  {
   "cell_type": "code",
   "execution_count": 78,
   "id": "64d541a4-27d7-4ed8-81c2-f89efe2728d2",
   "metadata": {},
   "outputs": [
    {
     "data": {
      "text/plain": [
       "['Верея', 'Дубна', 'Садовое кольцо']"
      ]
     },
     "execution_count": 78,
     "metadata": {},
     "output_type": "execute_result"
    }
   ],
   "source": [
    "os.listdir('data/races')"
   ]
  },
  {
   "cell_type": "code",
   "execution_count": 74,
   "id": "fc8de4a0-edf3-4f54-b8db-a6726fa316b8",
   "metadata": {},
   "outputs": [
    {
     "data": {
      "text/html": [
       "<div>\n",
       "<style scoped>\n",
       "    .dataframe tbody tr th:only-of-type {\n",
       "        vertical-align: middle;\n",
       "    }\n",
       "\n",
       "    .dataframe tbody tr th {\n",
       "        vertical-align: top;\n",
       "    }\n",
       "\n",
       "    .dataframe thead th {\n",
       "        text-align: right;\n",
       "    }\n",
       "</style>\n",
       "<table border=\"1\" class=\"dataframe\">\n",
       "  <thead>\n",
       "    <tr style=\"text-align: right;\">\n",
       "      <th></th>\n",
       "      <th>team</th>\n",
       "      <th>result_time</th>\n",
       "      <th>place</th>\n",
       "    </tr>\n",
       "  </thead>\n",
       "  <tbody>\n",
       "    <tr>\n",
       "      <th>0</th>\n",
       "      <td>Магадан</td>\n",
       "      <td>24109.409</td>\n",
       "      <td>1</td>\n",
       "    </tr>\n",
       "    <tr>\n",
       "      <th>1</th>\n",
       "      <td>HBFS Plan B</td>\n",
       "      <td>24113.704</td>\n",
       "      <td>2</td>\n",
       "    </tr>\n",
       "    <tr>\n",
       "      <th>2</th>\n",
       "      <td>Legion Cycling Club</td>\n",
       "      <td>24114.826</td>\n",
       "      <td>3</td>\n",
       "    </tr>\n",
       "    <tr>\n",
       "      <th>3</th>\n",
       "      <td>Volga Union MCA 2</td>\n",
       "      <td>24115.591</td>\n",
       "      <td>4</td>\n",
       "    </tr>\n",
       "    <tr>\n",
       "      <th>4</th>\n",
       "      <td>SlowFlow</td>\n",
       "      <td>24116.491</td>\n",
       "      <td>5</td>\n",
       "    </tr>\n",
       "    <tr>\n",
       "      <th>5</th>\n",
       "      <td>RCA-2</td>\n",
       "      <td>24118.163</td>\n",
       "      <td>6</td>\n",
       "    </tr>\n",
       "    <tr>\n",
       "      <th>6</th>\n",
       "      <td>Volga Union MCA 3</td>\n",
       "      <td>17318.875</td>\n",
       "      <td>7</td>\n",
       "    </tr>\n",
       "  </tbody>\n",
       "</table>\n",
       "</div>"
      ],
      "text/plain": [
       "                  team  result_time  place\n",
       "0              Магадан    24109.409      1\n",
       "1          HBFS Plan B    24113.704      2\n",
       "2  Legion Cycling Club    24114.826      3\n",
       "3    Volga Union MCA 2    24115.591      4\n",
       "4             SlowFlow    24116.491      5\n",
       "5                RCA-2    24118.163      6\n",
       "6    Volga Union MCA 3    17318.875      7"
      ]
     },
     "execution_count": 74,
     "metadata": {},
     "output_type": "execute_result"
    }
   ],
   "source": [
    "get_team_results(race.group['B'])"
   ]
  },
  {
   "cell_type": "code",
   "execution_count": 69,
   "id": "f51bd987-4f2a-450e-8e9e-8f63e06377af",
   "metadata": {},
   "outputs": [],
   "source": [
    "team_results = team_results.sort_values(['n_riders', 'result_time'], ascending=[False, True]).reset_index()\n",
    "team_results['place'] = team_results.index + 1"
   ]
  },
  {
   "cell_type": "code",
   "execution_count": 70,
   "id": "4f96eaa1-17a5-4170-a2fe-0d6aef01389f",
   "metadata": {},
   "outputs": [
    {
     "data": {
      "text/html": [
       "<div>\n",
       "<style scoped>\n",
       "    .dataframe tbody tr th:only-of-type {\n",
       "        vertical-align: middle;\n",
       "    }\n",
       "\n",
       "    .dataframe tbody tr th {\n",
       "        vertical-align: top;\n",
       "    }\n",
       "\n",
       "    .dataframe thead th {\n",
       "        text-align: right;\n",
       "    }\n",
       "</style>\n",
       "<table border=\"1\" class=\"dataframe\">\n",
       "  <thead>\n",
       "    <tr style=\"text-align: right;\">\n",
       "      <th></th>\n",
       "      <th>team</th>\n",
       "      <th>n_riders</th>\n",
       "      <th>result_time</th>\n",
       "      <th>place</th>\n",
       "    </tr>\n",
       "  </thead>\n",
       "  <tbody>\n",
       "    <tr>\n",
       "      <th>0</th>\n",
       "      <td>Кластер B. RCA 3</td>\n",
       "      <td>3.0</td>\n",
       "      <td>31198.534</td>\n",
       "      <td>1</td>\n",
       "    </tr>\n",
       "    <tr>\n",
       "      <th>1</th>\n",
       "      <td>Кластер B. HBFS Plan B</td>\n",
       "      <td>3.0</td>\n",
       "      <td>31485.331</td>\n",
       "      <td>2</td>\n",
       "    </tr>\n",
       "    <tr>\n",
       "      <th>2</th>\n",
       "      <td>Кластер B. SERPANTIN</td>\n",
       "      <td>2.0</td>\n",
       "      <td>20795.532</td>\n",
       "      <td>3</td>\n",
       "    </tr>\n",
       "    <tr>\n",
       "      <th>3</th>\n",
       "      <td>Кластер B. Магадан В</td>\n",
       "      <td>2.0</td>\n",
       "      <td>21103.011</td>\n",
       "      <td>4</td>\n",
       "    </tr>\n",
       "    <tr>\n",
       "      <th>4</th>\n",
       "      <td>Кластер B. Volga Union MCA 2</td>\n",
       "      <td>2.0</td>\n",
       "      <td>22595.272</td>\n",
       "      <td>5</td>\n",
       "    </tr>\n",
       "  </tbody>\n",
       "</table>\n",
       "</div>"
      ],
      "text/plain": [
       "                           team  n_riders  result_time  place\n",
       "0              Кластер B. RCA 3       3.0    31198.534      1\n",
       "1        Кластер B. HBFS Plan B       3.0    31485.331      2\n",
       "2          Кластер B. SERPANTIN       2.0    20795.532      3\n",
       "3          Кластер B. Магадан В       2.0    21103.011      4\n",
       "4  Кластер B. Volga Union MCA 2       2.0    22595.272      5"
      ]
     },
     "execution_count": 70,
     "metadata": {},
     "output_type": "execute_result"
    }
   ],
   "source": [
    "team_results"
   ]
  },
  {
   "cell_type": "code",
   "execution_count": 67,
   "id": "6b0ca93f-1ac0-400c-8899-04ab27895dca",
   "metadata": {},
   "outputs": [],
   "source": []
  },
  {
   "cell_type": "code",
   "execution_count": 68,
   "id": "60941128-63c8-4049-81d3-bb5ac195f9d8",
   "metadata": {},
   "outputs": [
    {
     "data": {
      "text/html": [
       "<div>\n",
       "<style scoped>\n",
       "    .dataframe tbody tr th:only-of-type {\n",
       "        vertical-align: middle;\n",
       "    }\n",
       "\n",
       "    .dataframe tbody tr th {\n",
       "        vertical-align: top;\n",
       "    }\n",
       "\n",
       "    .dataframe thead th {\n",
       "        text-align: right;\n",
       "    }\n",
       "</style>\n",
       "<table border=\"1\" class=\"dataframe\">\n",
       "  <thead>\n",
       "    <tr style=\"text-align: right;\">\n",
       "      <th></th>\n",
       "      <th>team</th>\n",
       "      <th>n_riders</th>\n",
       "      <th>result_time</th>\n",
       "      <th>place</th>\n",
       "    </tr>\n",
       "  </thead>\n",
       "  <tbody>\n",
       "    <tr>\n",
       "      <th>0</th>\n",
       "      <td>Кластер B. RCA 3</td>\n",
       "      <td>3.0</td>\n",
       "      <td>31198.534</td>\n",
       "      <td>1</td>\n",
       "    </tr>\n",
       "    <tr>\n",
       "      <th>1</th>\n",
       "      <td>Кластер B. HBFS Plan B</td>\n",
       "      <td>3.0</td>\n",
       "      <td>31485.331</td>\n",
       "      <td>2</td>\n",
       "    </tr>\n",
       "    <tr>\n",
       "      <th>2</th>\n",
       "      <td>Кластер B. SERPANTIN</td>\n",
       "      <td>2.0</td>\n",
       "      <td>20795.532</td>\n",
       "      <td>3</td>\n",
       "    </tr>\n",
       "    <tr>\n",
       "      <th>3</th>\n",
       "      <td>Кластер B. Магадан В</td>\n",
       "      <td>2.0</td>\n",
       "      <td>21103.011</td>\n",
       "      <td>4</td>\n",
       "    </tr>\n",
       "    <tr>\n",
       "      <th>4</th>\n",
       "      <td>Кластер B. Volga Union MCA 2</td>\n",
       "      <td>2.0</td>\n",
       "      <td>22595.272</td>\n",
       "      <td>5</td>\n",
       "    </tr>\n",
       "  </tbody>\n",
       "</table>\n",
       "</div>"
      ],
      "text/plain": [
       "                           team  n_riders  result_time  place\n",
       "0              Кластер B. RCA 3       3.0    31198.534      1\n",
       "1        Кластер B. HBFS Plan B       3.0    31485.331      2\n",
       "2          Кластер B. SERPANTIN       2.0    20795.532      3\n",
       "3          Кластер B. Магадан В       2.0    21103.011      4\n",
       "4  Кластер B. Volga Union MCA 2       2.0    22595.272      5"
      ]
     },
     "execution_count": 68,
     "metadata": {},
     "output_type": "execute_result"
    }
   ],
   "source": [
    "tr"
   ]
  },
  {
   "cell_type": "code",
   "execution_count": null,
   "id": "8fc13823-bc7b-4f78-b201-78df91d0b019",
   "metadata": {},
   "outputs": [],
   "source": []
  }
 ],
 "metadata": {
  "kernelspec": {
   "display_name": "Python 3 (ipykernel)",
   "language": "python",
   "name": "python3"
  },
  "language_info": {
   "codemirror_mode": {
    "name": "ipython",
    "version": 3
   },
   "file_extension": ".py",
   "mimetype": "text/x-python",
   "name": "python",
   "nbconvert_exporter": "python",
   "pygments_lexer": "ipython3",
   "version": "3.12.4"
  }
 },
 "nbformat": 4,
 "nbformat_minor": 5
}
