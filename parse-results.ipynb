{
 "cells": [
  {
   "cell_type": "markdown",
   "id": "d17d0b61",
   "metadata": {},
   "source": [
    "Cyclingrace results\n",
    "\n",
    "Cyclingrace is an amateaur road race series.\n",
    "Each race is a separate event which gives points towards season standing."
   ]
  },
  {
   "cell_type": "code",
   "execution_count": 1,
   "id": "0ebef17e-4212-46b8-af5f-4b5d58ca3fad",
   "metadata": {},
   "outputs": [],
   "source": [
    "import requests\n",
    "import pandas as pd\n",
    "import yaml\n",
    "\n",
    "from collections import defaultdict\n",
    "from copy import deepcopy"
   ]
  },
  {
   "cell_type": "code",
   "execution_count": 2,
   "id": "94864eab-187b-4df2-a1d4-44d811526551",
   "metadata": {},
   "outputs": [],
   "source": [
    "from cr_racing_results import (\n",
    "    RaceResults,\n",
    ")"
   ]
  },
  {
   "cell_type": "code",
   "execution_count": 3,
   "id": "e4021335-388a-4797-88d2-12833a81e0c1",
   "metadata": {},
   "outputs": [],
   "source": [
    "with open('races-config.yaml') as fp:\n",
    "    race_config = yaml.safe_load(fp)"
   ]
  },
  {
   "cell_type": "code",
   "execution_count": null,
   "id": "56939077-8cce-497b-ae4d-62fd66944525",
   "metadata": {},
   "outputs": [],
   "source": []
  },
  {
   "cell_type": "code",
   "execution_count": null,
   "id": "da7ce56b-9255-467a-a157-59d4a00ba00c",
   "metadata": {},
   "outputs": [],
   "source": []
  },
  {
   "cell_type": "code",
   "execution_count": null,
   "id": "5347523d-f0b8-4cc5-a893-9bfe44b65623",
   "metadata": {},
   "outputs": [],
   "source": []
  },
  {
   "cell_type": "code",
   "execution_count": 4,
   "id": "ab24dd2a-787f-4e41-90e0-7e751b5e4b08",
   "metadata": {},
   "outputs": [],
   "source": [
    "from pathlib import Path\n",
    "\n",
    "\n",
    "official_clusters = defaultdict(tuple)\n",
    "\n",
    "clusters_dir = Path(race_config['clusters'])\n",
    "for file in list(clusters_dir.iterdir()):\n",
    "    if file.name.startswith('.'):\n",
    "        continue\n",
    "    cluster = file.name.strip('+')\n",
    "    with open(file) as fp:\n",
    "        official_clusters[cluster] = official_clusters[cluster] + tuple(fp.read().split('\\n'))"
   ]
  },
  {
   "cell_type": "code",
   "execution_count": 5,
   "id": "68bfb78f-5cb8-4ab8-a19f-6721e62d1182",
   "metadata": {},
   "outputs": [],
   "source": [
    "race1 = RaceResults.from_config(race_config['races'][0], official_clusters)"
   ]
  },
  {
   "cell_type": "code",
   "execution_count": 6,
   "id": "1c16ae65-dcec-41d3-af63-b787cfee3601",
   "metadata": {},
   "outputs": [],
   "source": [
    "race2 = RaceResults.from_config(race_config['races'][0], race1.clusters)\n",
    "# difference"
   ]
  },
  {
   "cell_type": "code",
   "execution_count": 7,
   "id": "27482a69-1f58-434b-b0e7-52f594f7b1f6",
   "metadata": {},
   "outputs": [],
   "source": [
    "races = []\n",
    "cluster_distribution = deepcopy(official_clusters)\n",
    "for race in race_config['races']:\n",
    "    races.append(RaceResults.from_config(race, cluster_distribution))\n",
    "    cluster_distribution = races[-1].clusters\n",
    "races.sort(key=lambda race: race.order)"
   ]
  },
  {
   "cell_type": "code",
   "execution_count": 8,
   "id": "b20c985f-a2ff-4666-8f32-fd717771bd1f",
   "metadata": {},
   "outputs": [],
   "source": [
    "cluster_standing = {}\n",
    "\n",
    "for race in races:\n",
    "    for cluster, race_points in race.get_race_points().items():\n",
    "        if cluster in cluster_standing:\n",
    "            cluster_standing[cluster] = pd.merge(cluster_standing[cluster], race_points, how='outer', on='name')\n",
    "        else:\n",
    "            cluster_standing[cluster] = race_points"
   ]
  },
  {
   "cell_type": "code",
   "execution_count": 9,
   "id": "f7ec8763-549b-401c-96e8-5fb64460dd4a",
   "metadata": {},
   "outputs": [],
   "source": [
    "renamed_columns = {\n",
    "    \"name\": \"Гонщик\",\n",
    "    \"total\": \"Очки\"\n",
    "}\n",
    "\n",
    "for cluster in cluster_standing:\n",
    "    all_results = cluster_standing[cluster].set_index('name')\n",
    "    all_results['total'] = all_results.sum(axis='columns')\n",
    "    cluster_standing[cluster] = all_results.sort_values('total', ascending=False)\n"
   ]
  },
  {
   "cell_type": "code",
   "execution_count": 10,
   "id": "aaed384f-fb78-4de0-82b8-12c6681ff138",
   "metadata": {},
   "outputs": [],
   "source": [
    "writer = pd.ExcelWriter('data/current_standing.xlsx', engine = 'xlsxwriter')\n",
    "for cluster in cluster_standing:\n",
    "    cluster_standing[cluster].reset_index().to_excel(writer, sheet_name=cluster)\n",
    "\n",
    "    data = cluster_standing[cluster].reset_index().rename(renamed_columns, axis='columns')\n",
    "    data.index += 1\n",
    "    data.to_csv(f'data/cluster_{cluster}.csv')\n",
    "writer.close()"
   ]
  },
  {
   "cell_type": "code",
   "execution_count": null,
   "id": "5bb216de-5ac9-4b6a-85d7-9fe33e8e34b3",
   "metadata": {},
   "outputs": [],
   "source": []
  },
  {
   "cell_type": "code",
   "execution_count": 11,
   "id": "9e81780e-6151-4f31-b704-69f40034bfb1",
   "metadata": {},
   "outputs": [
    {
     "data": {
      "text/html": [
       "<div>\n",
       "<style scoped>\n",
       "    .dataframe tbody tr th:only-of-type {\n",
       "        vertical-align: middle;\n",
       "    }\n",
       "\n",
       "    .dataframe tbody tr th {\n",
       "        vertical-align: top;\n",
       "    }\n",
       "\n",
       "    .dataframe thead th {\n",
       "        text-align: right;\n",
       "    }\n",
       "</style>\n",
       "<table border=\"1\" class=\"dataframe\">\n",
       "  <thead>\n",
       "    <tr style=\"text-align: right;\">\n",
       "      <th></th>\n",
       "      <th>bib</th>\n",
       "      <th>name</th>\n",
       "      <th>gender</th>\n",
       "      <th>category</th>\n",
       "      <th>status</th>\n",
       "      <th>rank_abs</th>\n",
       "      <th>result</th>\n",
       "      <th>result_time</th>\n",
       "      <th>team</th>\n",
       "      <th>club</th>\n",
       "    </tr>\n",
       "  </thead>\n",
       "  <tbody>\n",
       "    <tr>\n",
       "      <th>22</th>\n",
       "      <td>136</td>\n",
       "      <td>Есипов Евгений</td>\n",
       "      <td>male</td>\n",
       "      <td>М4 45-49</td>\n",
       "      <td>Q</td>\n",
       "      <td>23.0</td>\n",
       "      <td>02:53:18.09</td>\n",
       "      <td>10398.097</td>\n",
       "      <td>Кластер B. HBFS Plan B</td>\n",
       "      <td>Кластер B. HBFS Plan B</td>\n",
       "    </tr>\n",
       "  </tbody>\n",
       "</table>\n",
       "</div>"
      ],
      "text/plain": [
       "    bib            name gender  category status  rank_abs       result  \\\n",
       "22  136  Есипов Евгений   male  М4 45-49      Q      23.0  02:53:18.09   \n",
       "\n",
       "    result_time                    team                    club  \n",
       "22    10398.097  Кластер B. HBFS Plan B  Кластер B. HBFS Plan B  "
      ]
     },
     "execution_count": 11,
     "metadata": {},
     "output_type": "execute_result"
    }
   ],
   "source": [
    "races[1].group['B'].loc[races[1].group['B'].name.str.startswith('Есипов')]"
   ]
  },
  {
   "cell_type": "code",
   "execution_count": 12,
   "id": "54253c25-b064-4337-98c1-245e8d5984b2",
   "metadata": {},
   "outputs": [
    {
     "data": {
      "text/html": [
       "<div>\n",
       "<style scoped>\n",
       "    .dataframe tbody tr th:only-of-type {\n",
       "        vertical-align: middle;\n",
       "    }\n",
       "\n",
       "    .dataframe tbody tr th {\n",
       "        vertical-align: top;\n",
       "    }\n",
       "\n",
       "    .dataframe thead th {\n",
       "        text-align: right;\n",
       "    }\n",
       "</style>\n",
       "<table border=\"1\" class=\"dataframe\">\n",
       "  <thead>\n",
       "    <tr style=\"text-align: right;\">\n",
       "      <th></th>\n",
       "      <th>bib</th>\n",
       "      <th>name</th>\n",
       "      <th>gender</th>\n",
       "      <th>category</th>\n",
       "      <th>status</th>\n",
       "      <th>rank_abs</th>\n",
       "      <th>result</th>\n",
       "      <th>result_time</th>\n",
       "      <th>team</th>\n",
       "      <th>club</th>\n",
       "      <th>cluster</th>\n",
       "    </tr>\n",
       "  </thead>\n",
       "  <tbody>\n",
       "    <tr>\n",
       "      <th>58</th>\n",
       "      <td>179</td>\n",
       "      <td>Есипов Евгений</td>\n",
       "      <td>male</td>\n",
       "      <td>М4 45-49</td>\n",
       "      <td>Q</td>\n",
       "      <td>59.0</td>\n",
       "      <td>00:41:16.29</td>\n",
       "      <td>2476.299</td>\n",
       "      <td>HBFS</td>\n",
       "      <td>HBFS</td>\n",
       "      <td>B</td>\n",
       "    </tr>\n",
       "  </tbody>\n",
       "</table>\n",
       "</div>"
      ],
      "text/plain": [
       "    bib            name gender  category status  rank_abs       result  \\\n",
       "58  179  Есипов Евгений   male  М4 45-49      Q      59.0  00:41:16.29   \n",
       "\n",
       "    result_time  team  club cluster  \n",
       "58     2476.299  HBFS  HBFS       B  "
      ]
     },
     "execution_count": 12,
     "metadata": {},
     "output_type": "execute_result"
    }
   ],
   "source": [
    "races[1].tt.loc[races[1].tt.name.str.startswith('Есипов')]"
   ]
  },
  {
   "cell_type": "code",
   "execution_count": 13,
   "id": "d7232877-b082-4b7e-b6a3-64b2e450442b",
   "metadata": {},
   "outputs": [
    {
     "data": {
      "text/plain": [
       "['B']"
      ]
     },
     "execution_count": 13,
     "metadata": {},
     "output_type": "execute_result"
    }
   ],
   "source": [
    "list(filter(lambda clust: 'Есипов Е' in races[1].clusters[clust], races[1].clusters))"
   ]
  },
  {
   "cell_type": "markdown",
   "id": "85fcf016-a764-401c-bec3-f0940ea3464c",
   "metadata": {},
   "source": [
    "# Менялись ли кластеры между гонок"
   ]
  },
  {
   "cell_type": "code",
   "execution_count": 16,
   "id": "3c9d3183-7fb5-4b58-8e74-9a9b4e3cc827",
   "metadata": {},
   "outputs": [],
   "source": [
    "from functools import reduce\n",
    "all_dfs = reduce(lambda  left,right: pd.merge(left,right, on=['name'], how='outer'), (pd.concat(dfs) for race_name, dfs in all_results.items()))"
   ]
  },
  {
   "cell_type": "code",
   "execution_count": 22,
   "id": "0ff0b67f-6c7a-4bc7-bca7-e5b8e1a2f29c",
   "metadata": {},
   "outputs": [],
   "source": [
    "all_results = defaultdict(list)\n",
    "for race in race_results['groups']:\n",
    "    for cluster, results in race.results.items():\n",
    "        set_tt_cluster(results, official_clusters, 'fixed_cluster')\n",
    "        set_tt_cluster(results, original_off_clusters, 'official_cluster')\n",
    "        results['real_cluster'] = cluster\n",
    "        all_results[race.name].append(results.loc[:, ['name', 'real_cluster']].rename({'real_cluster': race.name}, axis=1))"
   ]
  },
  {
   "cell_type": "code",
   "execution_count": 23,
   "id": "ba9c16fb-e18a-4d50-bc81-75267aa5be87",
   "metadata": {},
   "outputs": [
    {
     "data": {
      "text/html": [
       "<div>\n",
       "<style scoped>\n",
       "    .dataframe tbody tr th:only-of-type {\n",
       "        vertical-align: middle;\n",
       "    }\n",
       "\n",
       "    .dataframe tbody tr th {\n",
       "        vertical-align: top;\n",
       "    }\n",
       "\n",
       "    .dataframe thead th {\n",
       "        text-align: right;\n",
       "    }\n",
       "</style>\n",
       "<table border=\"1\" class=\"dataframe\">\n",
       "  <thead>\n",
       "    <tr style=\"text-align: right;\">\n",
       "      <th></th>\n",
       "      <th>name</th>\n",
       "      <th>Садовое кольцо</th>\n",
       "      <th>Верея</th>\n",
       "      <th>Дубна</th>\n",
       "    </tr>\n",
       "  </thead>\n",
       "  <tbody>\n",
       "    <tr>\n",
       "      <th>78</th>\n",
       "      <td>Сальников Роман</td>\n",
       "      <td>A</td>\n",
       "      <td>A</td>\n",
       "      <td>B</td>\n",
       "    </tr>\n",
       "    <tr>\n",
       "      <th>156</th>\n",
       "      <td>Карпов Антон</td>\n",
       "      <td>A</td>\n",
       "      <td>A</td>\n",
       "      <td>B</td>\n",
       "    </tr>\n",
       "    <tr>\n",
       "      <th>370</th>\n",
       "      <td>Дмитриев Андрей</td>\n",
       "      <td>C</td>\n",
       "      <td>C</td>\n",
       "      <td>B</td>\n",
       "    </tr>\n",
       "    <tr>\n",
       "      <th>712</th>\n",
       "      <td>Худиев Омар</td>\n",
       "      <td>NaN</td>\n",
       "      <td>B</td>\n",
       "      <td>A</td>\n",
       "    </tr>\n",
       "    <tr>\n",
       "      <th>188</th>\n",
       "      <td>Попов Сергей</td>\n",
       "      <td>C</td>\n",
       "      <td>B</td>\n",
       "      <td>B</td>\n",
       "    </tr>\n",
       "    <tr>\n",
       "      <th>362</th>\n",
       "      <td>Нечаев Виктор</td>\n",
       "      <td>C</td>\n",
       "      <td>B</td>\n",
       "      <td>B</td>\n",
       "    </tr>\n",
       "    <tr>\n",
       "      <th>548</th>\n",
       "      <td>Руез Фабьен</td>\n",
       "      <td>C</td>\n",
       "      <td>A</td>\n",
       "      <td>NaN</td>\n",
       "    </tr>\n",
       "  </tbody>\n",
       "</table>\n",
       "</div>"
      ],
      "text/plain": [
       "                name Садовое кольцо Верея Дубна\n",
       "78   Сальников Роман              A     A     B\n",
       "156     Карпов Антон              A     A     B\n",
       "370  Дмитриев Андрей              C     C     B\n",
       "712      Худиев Омар            NaN     B     A\n",
       "188     Попов Сергей              C     B     B\n",
       "362    Нечаев Виктор              C     B     B\n",
       "548      Руез Фабьен              C     A   NaN"
      ]
     },
     "execution_count": 23,
     "metadata": {},
     "output_type": "execute_result"
    }
   ],
   "source": [
    "pd.concat([\n",
    "    all_dfs.loc[(all_dfs['Дубна'] != all_dfs['Верея']) & ~all_dfs['Дубна'].isna() & ~all_dfs['Верея'].isna()],\n",
    "    all_dfs.loc[(all_dfs['Садовое кольцо'] != all_dfs['Верея']) & ~all_dfs['Садовое кольцо'].isna() & ~all_dfs['Верея'].isna()],\n",
    "    all_dfs.loc[(all_dfs['Дубна'] != all_dfs['Верея']) & ~all_dfs['Дубна'].isna() & ~all_dfs['Верея'].isna()]\n",
    "]).drop_duplicates()"
   ]
  },
  {
   "cell_type": "code",
   "execution_count": null,
   "id": "1cf2aecc-39ad-40e6-afa0-84f42b9b6b0e",
   "metadata": {},
   "outputs": [],
   "source": []
  }
 ],
 "metadata": {
  "kernelspec": {
   "display_name": "Python 3 (ipykernel)",
   "language": "python",
   "name": "python3"
  },
  "language_info": {
   "codemirror_mode": {
    "name": "ipython",
    "version": 3
   },
   "file_extension": ".py",
   "mimetype": "text/x-python",
   "name": "python",
   "nbconvert_exporter": "python",
   "pygments_lexer": "ipython3",
   "version": "3.12.4"
  }
 },
 "nbformat": 4,
 "nbformat_minor": 5
}
