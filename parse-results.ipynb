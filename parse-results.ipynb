{
 "cells": [
  {
   "cell_type": "markdown",
   "id": "d17d0b61",
   "metadata": {},
   "source": [
    "Cyclingrace results\n",
    "\n",
    "Cyclingrace is an amateaur road race series.\n",
    "Each race is a separate event which gives points towards season standing."
   ]
  },
  {
   "cell_type": "code",
   "execution_count": 1,
   "id": "0ebef17e-4212-46b8-af5f-4b5d58ca3fad",
   "metadata": {},
   "outputs": [],
   "source": [
    "import requests\n",
    "import pandas as pd\n",
    "import yaml\n",
    "\n",
    "from collections import defaultdict"
   ]
  },
  {
   "cell_type": "code",
   "execution_count": 2,
   "id": "e4021335-388a-4797-88d2-12833a81e0c1",
   "metadata": {},
   "outputs": [],
   "source": [
    "with open('races-config.yaml') as fp:\n",
    "    race_config = yaml.safe_load(fp)"
   ]
  },
  {
   "cell_type": "code",
   "execution_count": 3,
   "id": "ce4d54d9-c751-4fe0-8763-d7dd4b2a2ec9",
   "metadata": {},
   "outputs": [],
   "source": [
    "# from typing import Union\n",
    "\n",
    "\n",
    "COLUMNS = ['bib', 'name', 'gender', 'category', 'status', 'rank_abs', 'result', 'result_time', 'team', 'club']\n",
    "\n",
    "def get_results(results_url: str, full: bool = False) -> pd.DataFrame | dict:\n",
    "    r = requests.get(results_url, params=dict(page=1))\n",
    "    r.raise_for_status()\n",
    "    results = r.json()\n",
    "\n",
    "    full_results = results['items']\n",
    "    for page in range(2, results['page_info']['totalPages'] + 1):\n",
    "        r = requests.get(results_url, params=dict(page=page))\n",
    "        r.raise_for_status()\n",
    "        full_results.extend(r.json()['items'])\n",
    "    \n",
    "    if full:\n",
    "        return full_results\n",
    "    results_df = pd.DataFrame(full_results, columns=COLUMNS)\n",
    "    return results_df"
   ]
  },
  {
   "cell_type": "code",
   "execution_count": 4,
   "id": "fbc7ce6b-dc91-4667-8d67-26d7fc030437",
   "metadata": {},
   "outputs": [],
   "source": [
    "# r = get_results(race_config['groups'][-1]['results']['B'] + '.json', True)"
   ]
  },
  {
   "cell_type": "code",
   "execution_count": null,
   "id": "0816e204-dc45-4f17-9c6c-0458c6181cd0",
   "metadata": {},
   "outputs": [],
   "source": []
  },
  {
   "cell_type": "code",
   "execution_count": 5,
   "id": "83cd8472-ae4c-47bf-a72f-fe41014cdf22",
   "metadata": {},
   "outputs": [],
   "source": [
    "from itertools import chain, repeat, islice\n",
    "\n",
    "points = [100,  98,  96,  94,  92,  90,  88,  86,  84,  82,  80,  78,  76,\n",
    "        74,  72,  70,  68,  66,  64,  62,  60,  58,  56,  54,  52,  50,\n",
    "        48,  46,  44,  42,  40,  38,  36,  34,  32,  30,  28,  26,  24,\n",
    "        22,  20,  20,  20,  20,  20,  20,  20,  20,  20,  20]\n",
    "\n",
    "def _pad_infinite(iterable, padding=None):\n",
    "    return chain(iterable, repeat(padding))\n",
    "\n",
    "def _pad(iterable, size, padding=None):\n",
    "    return islice(_pad_infinite(iterable, padding), size)\n",
    "\n",
    "def generate_points(n_places: int):\n",
    "    return list(_pad(points, n_places, 0))"
   ]
  },
  {
   "cell_type": "code",
   "execution_count": 6,
   "id": "ab24dd2a-787f-4e41-90e0-7e751b5e4b08",
   "metadata": {},
   "outputs": [],
   "source": [
    "from pathlib import Path\n",
    "\n",
    "\n",
    "official_clusters = defaultdict(tuple)\n",
    "\n",
    "clusters_dir = Path('data/clusters/')\n",
    "for file in list(clusters_dir.iterdir()):\n",
    "    if file.name.startswith('.'):\n",
    "        continue\n",
    "    cluster = file.name.strip('+')\n",
    "    with open(file) as fp:\n",
    "        official_clusters[cluster] = official_clusters[cluster] + tuple(fp.read().split('\\n'))"
   ]
  },
  {
   "cell_type": "code",
   "execution_count": 7,
   "id": "82672b16-a403-4561-8445-fe5a4ea249ca",
   "metadata": {},
   "outputs": [],
   "source": [
    "def set_tt_cluster(tt_results: pd.DataFrame, clusters: dict[str, tuple[str]]) -> None:\n",
    "    tt_results['cluster'] = 'C'\n",
    "    tt_results.loc[tt_results.gender == 'female', 'cluster'] = 'F'\n",
    "    for cluster, racers in official_clusters.items():\n",
    "        tt_results.loc[tt_results.name.str.startswith(racers), 'cluster'] = cluster"
   ]
  },
  {
   "cell_type": "code",
   "execution_count": 10,
   "id": "35db9232-d1b3-466d-b146-1600b6746364",
   "metadata": {},
   "outputs": [
    {
     "data": {
      "text/plain": [
       "'data/Садовое кольцо/test.csv'"
      ]
     },
     "execution_count": 10,
     "metadata": {},
     "output_type": "execute_result"
    }
   ],
   "source": [
    "os.path.join(race_results_dir, 'test.csv')"
   ]
  },
  {
   "cell_type": "code",
   "execution_count": 11,
   "id": "5dd54f41-03b0-4f45-890f-6a4e35b98574",
   "metadata": {},
   "outputs": [],
   "source": [
    "import os\n",
    "from pathlib import Path\n",
    "from copy import deepcopy\n",
    "\n",
    "race_results = {\n",
    "    'groups': [],\n",
    "    'time-trials': []\n",
    "}\n",
    "\n",
    "for race in race_config['groups']:\n",
    "    race_results_dir = Path(os.path.join(\"data\", race['name']))\n",
    "    race_results_dir.mkdir(exist_ok=True)\n",
    "    cluster_results = deepcopy(race)\n",
    "    for cluster, result_link in race['results'].items():\n",
    "        cluster_results['results'][cluster] = get_results(result_link + '.json')\n",
    "        cluster_results['results'][cluster].to_csv(os.path.join(race_results_dir, f'{cluster}.csv'))\n",
    "    race_results['groups'].append(cluster_results)"
   ]
  },
  {
   "cell_type": "code",
   "execution_count": 9,
   "id": "a601164b-9ab0-4f83-9697-b176ae188c49",
   "metadata": {},
   "outputs": [],
   "source": [
    "def shorten_name(name: str) -> str:\n",
    "    splited_name = name.split(\" \")\n",
    "    return \" \".join(chain(splited_name[:-1], splited_name[-1][0]))\n",
    "\n",
    "group_clusters = defaultdict(set)\n",
    "for race in race_results['groups']:\n",
    "    for cluster, results in race['results'].items():\n",
    "        group_clusters[cluster].update(map(shorten_name, results.name.unique()))\n",
    "        \n",
    "for cluster in group_clusters:\n",
    "    group_clusters[cluster].update(official_clusters[cluster])"
   ]
  },
  {
   "cell_type": "code",
   "execution_count": 10,
   "id": "c4360f4a-d072-49fb-bca0-9f8a8361bf0c",
   "metadata": {},
   "outputs": [
    {
     "name": "stdout",
     "output_type": "stream",
     "text": [
      "282 282\n",
      "440 474\n",
      "591 653\n",
      "305 309\n"
     ]
    }
   ],
   "source": [
    "has_cluster = set()\n",
    "\n",
    "for cluster, group in group_clusters.items():\n",
    "    official_clusters[cluster] = tuple(group - has_cluster)\n",
    "    print(len(official_clusters[cluster]), len(group))\n",
    "    has_cluster.update(group)"
   ]
  },
  {
   "cell_type": "code",
   "execution_count": 15,
   "id": "bb42af2a-484e-4a67-936e-ef1d050fe3eb",
   "metadata": {},
   "outputs": [],
   "source": [
    "for race in race_config['time-trials']:\n",
    "    tt_results = deepcopy(race)\n",
    "    tt_results['results'] = get_results(race['results'] + '.json')\n",
    "    set_tt_cluster(tt_results['results'], official_clusters)\n",
    "    race_results['time-trials'].append(tt_results)\n",
    "    # tt_results['results'].to_csv(f\"data/tt-results/{tt_results['name']}.csv\")"
   ]
  },
  {
   "cell_type": "code",
   "execution_count": 12,
   "id": "de22fd6a-941b-4866-9b58-e512035d5b80",
   "metadata": {},
   "outputs": [],
   "source": [
    "def get_points_for_race(race_results, race_name: str | None = None) -> pd.DataFrame:\n",
    "    points_column = 'points'\n",
    "    if race_name:\n",
    "        points_column = race_name\n",
    "    sorted_results = race_results.dropna(subset=['rank_abs']).astype({'rank_abs': int}).sort_values('rank_abs').set_index('rank_abs')\n",
    "    sorted_results[points_column] = generate_points(sorted_results.shape[0])\n",
    "    return sorted_results.loc[:, ['name', points_column]]"
   ]
  },
  {
   "cell_type": "code",
   "execution_count": 13,
   "id": "b20c985f-a2ff-4666-8f32-fd717771bd1f",
   "metadata": {},
   "outputs": [],
   "source": [
    "cluster_standing = {}\n",
    "\n",
    "for race in race_results['groups']:\n",
    "    for cluster, results in race['results'].items():\n",
    "        race_points = get_points_for_race(results, race['name'])\n",
    "        if cluster in cluster_standing:\n",
    "            cluster_standing[cluster] = pd.merge(cluster_standing[cluster], race_points, how='outer', on='name')\n",
    "        else:\n",
    "            cluster_standing[cluster] = race_points\n",
    "\n",
    "for race in race_results['time-trials']:\n",
    "    for cluster in cluster_standing:\n",
    "        cluster_results = race['results'][race['results']['cluster'] == cluster]\n",
    "        race_points = get_points_for_race(cluster_results, race['name'])\n",
    "        cluster_standing[cluster] = pd.merge(cluster_standing[cluster], race_points, how='outer', on='name')"
   ]
  },
  {
   "cell_type": "code",
   "execution_count": 14,
   "id": "d74fe4f3-39a5-4ba3-9d02-802112ff2e16",
   "metadata": {},
   "outputs": [],
   "source": [
    "from itertools import chain\n",
    "race_order = list(map(lambda x: x[-1], sorted(\n",
    "    chain(\n",
    "        ((race['order'], race['name']) for race in race_config['groups']),\n",
    "        ((race['order'], race['name']) for race in race_config['time-trials']),\n",
    "    )\n",
    ")))"
   ]
  },
  {
   "cell_type": "code",
   "execution_count": 15,
   "id": "f7ec8763-549b-401c-96e8-5fb64460dd4a",
   "metadata": {},
   "outputs": [],
   "source": [
    "renamed_columns = {\n",
    "    \"name\": \"Гонщик\",\n",
    "    \"total\": \"Очки\"\n",
    "}\n",
    "\n",
    "for cluster in cluster_standing:\n",
    "    all_results = cluster_standing[cluster].set_index('name').loc[:, race_order]\n",
    "    all_results['total'] = all_results.sum(axis='columns')\n",
    "    cluster_standing[cluster] = all_results.sort_values('total', ascending=False)\n"
   ]
  },
  {
   "cell_type": "code",
   "execution_count": null,
   "id": "dbf34259-ee1a-4afb-bd46-a276b0f4b786",
   "metadata": {},
   "outputs": [],
   "source": []
  },
  {
   "cell_type": "code",
   "execution_count": 16,
   "id": "aaed384f-fb78-4de0-82b8-12c6681ff138",
   "metadata": {},
   "outputs": [],
   "source": [
    "writer = pd.ExcelWriter('data/current_standing.xlsx', engine = 'xlsxwriter')\n",
    "for cluster in cluster_standing:\n",
    "    cluster_standing[cluster].reset_index().to_excel(writer, sheet_name=cluster)\n",
    "\n",
    "    data = cluster_standing[cluster].reset_index().rename(renamed_columns, axis='columns')\n",
    "    data.index += 1\n",
    "    data.to_csv(f'data/cluster_{cluster}.csv')\n",
    "writer.close()"
   ]
  },
  {
   "cell_type": "code",
   "execution_count": null,
   "id": "86c5fba1-88c8-4b9e-aa6e-40e2e9ae7877",
   "metadata": {},
   "outputs": [],
   "source": []
  }
 ],
 "metadata": {
  "kernelspec": {
   "display_name": "Python 3 (ipykernel)",
   "language": "python",
   "name": "python3"
  },
  "language_info": {
   "codemirror_mode": {
    "name": "ipython",
    "version": 3
   },
   "file_extension": ".py",
   "mimetype": "text/x-python",
   "name": "python",
   "nbconvert_exporter": "python",
   "pygments_lexer": "ipython3",
   "version": "3.10.13"
  }
 },
 "nbformat": 4,
 "nbformat_minor": 5
}
