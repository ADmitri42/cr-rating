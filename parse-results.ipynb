{
 "cells": [
  {
   "cell_type": "markdown",
   "id": "d17d0b61",
   "metadata": {},
   "source": [
    "Cyclingrace results\n",
    "\n",
    "Cyclingrace is an amateaur road race series.\n",
    "Each race is a separate event which gives points towards season standing."
   ]
  },
  {
   "cell_type": "code",
   "execution_count": 1,
   "id": "0ebef17e-4212-46b8-af5f-4b5d58ca3fad",
   "metadata": {},
   "outputs": [],
   "source": [
    "import requests\n",
    "import pandas as pd\n",
    "import yaml\n",
    "\n",
    "from collections import defaultdict"
   ]
  },
  {
   "cell_type": "code",
   "execution_count": 2,
   "id": "94864eab-187b-4df2-a1d4-44d811526551",
   "metadata": {},
   "outputs": [],
   "source": [
    "from cr_racing_results import (\n",
    "    RaceResults,\n",
    "    RaceType,\n",
    "    update_clusters\n",
    ")"
   ]
  },
  {
   "cell_type": "code",
   "execution_count": 3,
   "id": "e4021335-388a-4797-88d2-12833a81e0c1",
   "metadata": {},
   "outputs": [],
   "source": [
    "with open('races-config.yaml') as fp:\n",
    "    race_config = yaml.safe_load(fp)"
   ]
  },
  {
   "cell_type": "code",
   "execution_count": 4,
   "id": "83cd8472-ae4c-47bf-a72f-fe41014cdf22",
   "metadata": {},
   "outputs": [],
   "source": [
    "from itertools import chain, repeat, islice\n",
    "\n",
    "POINTS = [100,  98,  96,  94,  92,  90,  88,  86,  84,  82,  80,  78,  76,\n",
    "        74,  72,  70,  68,  66,  64,  62,  60,  58,  56,  54,  52,  50,\n",
    "        48,  46,  44,  42,  40,  38,  36,  34,  32,  30,  28,  26,  24,\n",
    "        22,  20,  20,  20,  20,  20,  20,  20,  20,  20,  20]\n",
    "\n",
    "def _pad_infinite(iterable, padding=None):\n",
    "    return chain(iterable, repeat(padding))\n",
    "\n",
    "def _pad(iterable, size, padding=None):\n",
    "    return islice(_pad_infinite(iterable, padding), size)\n",
    "\n",
    "def generate_points(n_places: int):\n",
    "    return list(_pad(POINTS, n_places, 0))"
   ]
  },
  {
   "cell_type": "code",
   "execution_count": 5,
   "id": "ab24dd2a-787f-4e41-90e0-7e751b5e4b08",
   "metadata": {},
   "outputs": [],
   "source": [
    "from pathlib import Path\n",
    "\n",
    "\n",
    "official_clusters = defaultdict(tuple)\n",
    "\n",
    "clusters_dir = Path('data/clusters/')\n",
    "for file in list(clusters_dir.iterdir()):\n",
    "    if file.name.startswith('.'):\n",
    "        continue\n",
    "    cluster = file.name.strip('+')\n",
    "    with open(file) as fp:\n",
    "        official_clusters[cluster] = official_clusters[cluster] + tuple(fp.read().split('\\n'))"
   ]
  },
  {
   "cell_type": "code",
   "execution_count": 6,
   "id": "82672b16-a403-4561-8445-fe5a4ea249ca",
   "metadata": {},
   "outputs": [],
   "source": [
    "def set_tt_cluster(tt_results: pd.DataFrame, clusters: dict[str, tuple[str]], column_name: str = 'cluster') -> None:\n",
    "    tt_results[column_name] = 'C'\n",
    "    tt_results.loc[tt_results.gender == 'female', column_name] = 'F'\n",
    "    for cluster, racers in official_clusters.items():\n",
    "        tt_results.loc[tt_results.name.str.startswith(racers), column_name] = cluster"
   ]
  },
  {
   "cell_type": "code",
   "execution_count": 7,
   "id": "5dd54f41-03b0-4f45-890f-6a4e35b98574",
   "metadata": {},
   "outputs": [],
   "source": [
    "import os\n",
    "from pathlib import Path\n",
    "from copy import deepcopy\n",
    "\n",
    "race_results = {\n",
    "    'groups': [],\n",
    "    'time-trials': []\n",
    "}\n",
    "\n",
    "for race in race_config['groups']:\n",
    "    race_results['groups'].append(RaceResults.group_from_config(race))"
   ]
  },
  {
   "cell_type": "code",
   "execution_count": 8,
   "id": "a601164b-9ab0-4f83-9697-b176ae188c49",
   "metadata": {},
   "outputs": [],
   "source": [
    "def shorten_name(name: str) -> str:\n",
    "    splited_name = name.split(\" \")\n",
    "    return \" \".join(chain(splited_name[:-1], splited_name[-1][0]))\n",
    "\n",
    "group_clusters = defaultdict(set)\n",
    "for race in race_results['groups']:\n",
    "    for cluster, results in race.results.items():\n",
    "        group_clusters[cluster].update(map(shorten_name, results.name.unique()))\n",
    "\n",
    "cluster_from_group = set()\n",
    "for cluster in group_clusters:\n",
    "    cluster_from_group.update(group_clusters[cluster])\n",
    "    # group_clusters[cluster].update(official_clusters[cluster])"
   ]
  },
  {
   "cell_type": "code",
   "execution_count": 9,
   "id": "c4360f4a-d072-49fb-bca0-9f8a8361bf0c",
   "metadata": {},
   "outputs": [
    {
     "name": "stdout",
     "output_type": "stream",
     "text": [
      "250 279 217\n",
      "438 444 248\n",
      "603 601 290\n",
      "288 309 150\n"
     ]
    }
   ],
   "source": [
    "has_cluster = set()\n",
    "original_off_clusters = deepcopy(official_clusters)\n",
    "\n",
    "for cluster, group in group_clusters.items():\n",
    "    official_clusters[cluster] = tuple((set(official_clusters[cluster]) - cluster_from_group) | (group - has_cluster))\n",
    "    print(len(original_off_clusters[cluster]), len(official_clusters[cluster]), len(group))\n",
    "    has_cluster.update(group)"
   ]
  },
  {
   "cell_type": "code",
   "execution_count": null,
   "id": "ed4d95e1-397e-4f8e-a078-d212c65fd59b",
   "metadata": {},
   "outputs": [],
   "source": []
  },
  {
   "cell_type": "code",
   "execution_count": 49,
   "id": "bb42af2a-484e-4a67-936e-ef1d050fe3eb",
   "metadata": {},
   "outputs": [],
   "source": [
    "for race in race_config['time-trials']:\n",
    "    race_results['time-trials'].append(RaceResults.tt_from_config(race, official_clusters))\n",
    "    # tt_results['results'].to_csv(f\"data/tt-results/{tt_results['name']}.csv\")"
   ]
  },
  {
   "cell_type": "code",
   "execution_count": 50,
   "id": "de22fd6a-941b-4866-9b58-e512035d5b80",
   "metadata": {},
   "outputs": [],
   "source": [
    "def get_points_for_race(race_results, race_name: str | None = None) -> pd.DataFrame:\n",
    "    points_column = 'points'\n",
    "    if race_name:\n",
    "        points_column = race_name\n",
    "    sorted_results = race_results.dropna(subset=['rank_abs']).astype({'rank_abs': int}).sort_values('rank_abs').set_index('rank_abs')\n",
    "    sorted_results[points_column] = generate_points(sorted_results.shape[0])\n",
    "    return sorted_results.loc[:, ['name', points_column]]"
   ]
  },
  {
   "cell_type": "code",
   "execution_count": 52,
   "id": "b20c985f-a2ff-4666-8f32-fd717771bd1f",
   "metadata": {},
   "outputs": [],
   "source": [
    "cluster_standing = {}\n",
    "\n",
    "for race in race_results['groups']:\n",
    "    for cluster, results in race.results.items():\n",
    "        race_points = get_points_for_race(results, race.name)\n",
    "        if cluster in cluster_standing:\n",
    "            cluster_standing[cluster] = pd.merge(cluster_standing[cluster], race_points, how='outer', on='name')\n",
    "        else:\n",
    "            cluster_standing[cluster] = race_points\n",
    "\n",
    "for race in race_results['time-trials']:\n",
    "    for cluster in cluster_standing:\n",
    "        cluster_results = race.results[race.results['cluster'] == cluster]\n",
    "        race_points = get_points_for_race(cluster_results, race.name)\n",
    "        cluster_standing[cluster] = pd.merge(cluster_standing[cluster], race_points, how='outer', on='name')"
   ]
  },
  {
   "cell_type": "code",
   "execution_count": 54,
   "id": "d74fe4f3-39a5-4ba3-9d02-802112ff2e16",
   "metadata": {},
   "outputs": [],
   "source": [
    "from itertools import chain\n",
    "race_order = list(map(lambda x: x[-1], sorted(\n",
    "    chain(\n",
    "        ((race.order, race.name) for race in race_results['groups']),\n",
    "        ((race.order, race.name) for race in race_results['time-trials']),\n",
    "    )\n",
    ")))"
   ]
  },
  {
   "cell_type": "code",
   "execution_count": 55,
   "id": "f7ec8763-549b-401c-96e8-5fb64460dd4a",
   "metadata": {},
   "outputs": [],
   "source": [
    "renamed_columns = {\n",
    "    \"name\": \"Гонщик\",\n",
    "    \"total\": \"Очки\"\n",
    "}\n",
    "\n",
    "for cluster in cluster_standing:\n",
    "    all_results = cluster_standing[cluster].set_index('name').loc[:, race_order]\n",
    "    all_results['total'] = all_results.sum(axis='columns')\n",
    "    cluster_standing[cluster] = all_results.sort_values('total', ascending=False)\n"
   ]
  },
  {
   "cell_type": "code",
   "execution_count": null,
   "id": "dbf34259-ee1a-4afb-bd46-a276b0f4b786",
   "metadata": {},
   "outputs": [],
   "source": []
  },
  {
   "cell_type": "code",
   "execution_count": 56,
   "id": "aaed384f-fb78-4de0-82b8-12c6681ff138",
   "metadata": {},
   "outputs": [],
   "source": [
    "writer = pd.ExcelWriter('data/current_standing.xlsx', engine = 'xlsxwriter')\n",
    "for cluster in cluster_standing:\n",
    "    cluster_standing[cluster].reset_index().to_excel(writer, sheet_name=cluster)\n",
    "\n",
    "    data = cluster_standing[cluster].reset_index().rename(renamed_columns, axis='columns')\n",
    "    data.index += 1\n",
    "    data.to_csv(f'data/cluster_{cluster}.csv')\n",
    "writer.close()"
   ]
  },
  {
   "cell_type": "markdown",
   "id": "85fcf016-a764-401c-bec3-f0940ea3464c",
   "metadata": {},
   "source": [
    "# Менялись ли кластеры между гонок"
   ]
  },
  {
   "cell_type": "code",
   "execution_count": 16,
   "id": "3c9d3183-7fb5-4b58-8e74-9a9b4e3cc827",
   "metadata": {},
   "outputs": [],
   "source": [
    "from functools import reduce\n",
    "all_dfs = reduce(lambda  left,right: pd.merge(left,right, on=['name'], how='outer'), (pd.concat(dfs) for race_name, dfs in all_results.items()))"
   ]
  },
  {
   "cell_type": "code",
   "execution_count": 22,
   "id": "0ff0b67f-6c7a-4bc7-bca7-e5b8e1a2f29c",
   "metadata": {},
   "outputs": [],
   "source": [
    "all_results = defaultdict(list)\n",
    "for race in race_results['groups']:\n",
    "    for cluster, results in race.results.items():\n",
    "        set_tt_cluster(results, official_clusters, 'fixed_cluster')\n",
    "        set_tt_cluster(results, original_off_clusters, 'official_cluster')\n",
    "        results['real_cluster'] = cluster\n",
    "        all_results[race.name].append(results.loc[:, ['name', 'real_cluster']].rename({'real_cluster': race.name}, axis=1))"
   ]
  },
  {
   "cell_type": "code",
   "execution_count": 23,
   "id": "ba9c16fb-e18a-4d50-bc81-75267aa5be87",
   "metadata": {},
   "outputs": [
    {
     "data": {
      "text/html": [
       "<div>\n",
       "<style scoped>\n",
       "    .dataframe tbody tr th:only-of-type {\n",
       "        vertical-align: middle;\n",
       "    }\n",
       "\n",
       "    .dataframe tbody tr th {\n",
       "        vertical-align: top;\n",
       "    }\n",
       "\n",
       "    .dataframe thead th {\n",
       "        text-align: right;\n",
       "    }\n",
       "</style>\n",
       "<table border=\"1\" class=\"dataframe\">\n",
       "  <thead>\n",
       "    <tr style=\"text-align: right;\">\n",
       "      <th></th>\n",
       "      <th>name</th>\n",
       "      <th>Садовое кольцо</th>\n",
       "      <th>Верея</th>\n",
       "      <th>Дубна</th>\n",
       "    </tr>\n",
       "  </thead>\n",
       "  <tbody>\n",
       "    <tr>\n",
       "      <th>78</th>\n",
       "      <td>Сальников Роман</td>\n",
       "      <td>A</td>\n",
       "      <td>A</td>\n",
       "      <td>B</td>\n",
       "    </tr>\n",
       "    <tr>\n",
       "      <th>156</th>\n",
       "      <td>Карпов Антон</td>\n",
       "      <td>A</td>\n",
       "      <td>A</td>\n",
       "      <td>B</td>\n",
       "    </tr>\n",
       "    <tr>\n",
       "      <th>370</th>\n",
       "      <td>Дмитриев Андрей</td>\n",
       "      <td>C</td>\n",
       "      <td>C</td>\n",
       "      <td>B</td>\n",
       "    </tr>\n",
       "    <tr>\n",
       "      <th>712</th>\n",
       "      <td>Худиев Омар</td>\n",
       "      <td>NaN</td>\n",
       "      <td>B</td>\n",
       "      <td>A</td>\n",
       "    </tr>\n",
       "    <tr>\n",
       "      <th>188</th>\n",
       "      <td>Попов Сергей</td>\n",
       "      <td>C</td>\n",
       "      <td>B</td>\n",
       "      <td>B</td>\n",
       "    </tr>\n",
       "    <tr>\n",
       "      <th>362</th>\n",
       "      <td>Нечаев Виктор</td>\n",
       "      <td>C</td>\n",
       "      <td>B</td>\n",
       "      <td>B</td>\n",
       "    </tr>\n",
       "    <tr>\n",
       "      <th>548</th>\n",
       "      <td>Руез Фабьен</td>\n",
       "      <td>C</td>\n",
       "      <td>A</td>\n",
       "      <td>NaN</td>\n",
       "    </tr>\n",
       "  </tbody>\n",
       "</table>\n",
       "</div>"
      ],
      "text/plain": [
       "                name Садовое кольцо Верея Дубна\n",
       "78   Сальников Роман              A     A     B\n",
       "156     Карпов Антон              A     A     B\n",
       "370  Дмитриев Андрей              C     C     B\n",
       "712      Худиев Омар            NaN     B     A\n",
       "188     Попов Сергей              C     B     B\n",
       "362    Нечаев Виктор              C     B     B\n",
       "548      Руез Фабьен              C     A   NaN"
      ]
     },
     "execution_count": 23,
     "metadata": {},
     "output_type": "execute_result"
    }
   ],
   "source": [
    "pd.concat([\n",
    "    all_dfs.loc[(all_dfs['Дубна'] != all_dfs['Верея']) & ~all_dfs['Дубна'].isna() & ~all_dfs['Верея'].isna()],\n",
    "    all_dfs.loc[(all_dfs['Садовое кольцо'] != all_dfs['Верея']) & ~all_dfs['Садовое кольцо'].isna() & ~all_dfs['Верея'].isna()],\n",
    "    all_dfs.loc[(all_dfs['Дубна'] != all_dfs['Верея']) & ~all_dfs['Дубна'].isna() & ~all_dfs['Верея'].isna()]\n",
    "]).drop_duplicates()"
   ]
  },
  {
   "cell_type": "code",
   "execution_count": null,
   "id": "1cf2aecc-39ad-40e6-afa0-84f42b9b6b0e",
   "metadata": {},
   "outputs": [],
   "source": []
  }
 ],
 "metadata": {
  "kernelspec": {
   "display_name": "Python 3 (ipykernel)",
   "language": "python",
   "name": "python3"
  },
  "language_info": {
   "codemirror_mode": {
    "name": "ipython",
    "version": 3
   },
   "file_extension": ".py",
   "mimetype": "text/x-python",
   "name": "python",
   "nbconvert_exporter": "python",
   "pygments_lexer": "ipython3",
   "version": "3.12.4"
  }
 },
 "nbformat": 4,
 "nbformat_minor": 5
}
