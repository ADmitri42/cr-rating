{
 "cells": [
  {
   "cell_type": "markdown",
   "id": "d17d0b61",
   "metadata": {},
   "source": [
    "Cyclingrace results\n",
    "\n",
    "Cyclingrace is an amateaur road race series.\n",
    "Each race is a separate event which gives points towards season standing."
   ]
  },
  {
   "cell_type": "code",
   "execution_count": 1,
   "id": "0ebef17e-4212-46b8-af5f-4b5d58ca3fad",
   "metadata": {},
   "outputs": [],
   "source": [
    "import requests\n",
    "import pandas as pd\n",
    "import yaml\n",
    "\n",
    "from collections import defaultdict\n",
    "from copy import deepcopy"
   ]
  },
  {
   "cell_type": "code",
   "execution_count": 2,
   "id": "94864eab-187b-4df2-a1d4-44d811526551",
   "metadata": {},
   "outputs": [],
   "source": [
    "from cr_racing_results import (\n",
    "    RaceResults,\n",
    ")"
   ]
  },
  {
   "cell_type": "code",
   "execution_count": 3,
   "id": "e4021335-388a-4797-88d2-12833a81e0c1",
   "metadata": {},
   "outputs": [],
   "source": [
    "with open('races-config.yaml') as fp:\n",
    "    race_config = yaml.safe_load(fp)"
   ]
  },
  {
   "cell_type": "code",
   "execution_count": null,
   "id": "56939077-8cce-497b-ae4d-62fd66944525",
   "metadata": {},
   "outputs": [],
   "source": []
  },
  {
   "cell_type": "code",
   "execution_count": null,
   "id": "da7ce56b-9255-467a-a157-59d4a00ba00c",
   "metadata": {},
   "outputs": [],
   "source": []
  },
  {
   "cell_type": "code",
   "execution_count": null,
   "id": "5347523d-f0b8-4cc5-a893-9bfe44b65623",
   "metadata": {},
   "outputs": [],
   "source": []
  },
  {
   "cell_type": "code",
   "execution_count": 4,
   "id": "ab24dd2a-787f-4e41-90e0-7e751b5e4b08",
   "metadata": {},
   "outputs": [],
   "source": [
    "from pathlib import Path\n",
    "\n",
    "\n",
    "official_clusters = defaultdict(tuple)\n",
    "\n",
    "clusters_dir = Path(race_config['clusters'])\n",
    "for file in list(clusters_dir.iterdir()):\n",
    "    if file.name.startswith('.'):\n",
    "        continue\n",
    "    cluster = file.name.strip('+')\n",
    "    with open(file) as fp:\n",
    "        official_clusters[cluster] = official_clusters[cluster] + tuple(fp.read().split('\\n'))"
   ]
  },
  {
   "cell_type": "code",
   "execution_count": 5,
   "id": "68bfb78f-5cb8-4ab8-a19f-6721e62d1182",
   "metadata": {},
   "outputs": [],
   "source": [
    "race1 = RaceResults.from_config(race_config['races'][0], official_clusters)"
   ]
  },
  {
   "cell_type": "code",
   "execution_count": 6,
   "id": "1a4eb4d8-c499-49f6-bf2f-c2aef7d884ff",
   "metadata": {},
   "outputs": [],
   "source": [
    "race1.save(f'data/{race1.name}')"
   ]
  },
  {
   "cell_type": "code",
   "execution_count": 13,
   "id": "a3d55778-2734-4171-9df7-06f8bfeb309a",
   "metadata": {},
   "outputs": [
    {
     "data": {
      "text/html": [
       "<div>\n",
       "<style scoped>\n",
       "    .dataframe tbody tr th:only-of-type {\n",
       "        vertical-align: middle;\n",
       "    }\n",
       "\n",
       "    .dataframe tbody tr th {\n",
       "        vertical-align: top;\n",
       "    }\n",
       "\n",
       "    .dataframe thead th {\n",
       "        text-align: right;\n",
       "    }\n",
       "</style>\n",
       "<table border=\"1\" class=\"dataframe\">\n",
       "  <thead>\n",
       "    <tr style=\"text-align: right;\">\n",
       "      <th></th>\n",
       "      <th>bib</th>\n",
       "      <th>name</th>\n",
       "      <th>gender</th>\n",
       "      <th>category</th>\n",
       "      <th>status</th>\n",
       "      <th>rank_abs</th>\n",
       "      <th>result</th>\n",
       "      <th>result_time</th>\n",
       "      <th>team</th>\n",
       "      <th>club</th>\n",
       "    </tr>\n",
       "  </thead>\n",
       "  <tbody>\n",
       "    <tr>\n",
       "      <th>42</th>\n",
       "      <td>54</td>\n",
       "      <td>Кузнецов Владимир</td>\n",
       "      <td>male</td>\n",
       "      <td>М8</td>\n",
       "      <td>Q</td>\n",
       "      <td>43.0</td>\n",
       "      <td>02:25:13.78</td>\n",
       "      <td>8713.783</td>\n",
       "      <td>Volga Union MCA 1</td>\n",
       "      <td>Volga Union MCA 1</td>\n",
       "    </tr>\n",
       "  </tbody>\n",
       "</table>\n",
       "</div>"
      ],
      "text/plain": [
       "   bib               name gender category status  rank_abs       result  \\\n",
       "42  54  Кузнецов Владимир   male       М8      Q      43.0  02:25:13.78   \n",
       "\n",
       "    result_time               team               club  \n",
       "42     8713.783  Volga Union MCA 1  Volga Union MCA 1  "
      ]
     },
     "execution_count": 13,
     "metadata": {},
     "output_type": "execute_result"
    }
   ],
   "source": [
    "race1.group['A'][race1.group['A'].name == 'Кузнецов Владимир']"
   ]
  },
  {
   "cell_type": "code",
   "execution_count": 21,
   "id": "0cf0dbd1-be0c-4fd0-be61-e51acb88e4cf",
   "metadata": {},
   "outputs": [],
   "source": [
    "from itertools import chain\n",
    "from cr_racing_results import _shorten_name\n",
    "cluster_from_race = set(\n",
    "    chain(*(map(_shorten_name, results.name.unique()) for results in race1.group.values()))\n",
    ")"
   ]
  },
  {
   "cell_type": "code",
   "execution_count": 28,
   "id": "95b24e15-cb67-44db-8686-d1d70a45fc1f",
   "metadata": {},
   "outputs": [],
   "source": [
    "cluster = 'C'\n",
    "current_list = official_clusters[cluster]"
   ]
  },
  {
   "cell_type": "code",
   "execution_count": 29,
   "id": "14ef67f4-0808-4004-ab04-c1464cf8d209",
   "metadata": {},
   "outputs": [],
   "source": [
    "cluster_racers = set(\n",
    "    map(_shorten_name, race1.group[cluster].name.unique())\n",
    ")"
   ]
  },
  {
   "cell_type": "code",
   "execution_count": 32,
   "id": "2cd83ebf-b934-4900-a601-b2b2e9d272fc",
   "metadata": {},
   "outputs": [
    {
     "data": {
      "text/html": [
       "<div>\n",
       "<style scoped>\n",
       "    .dataframe tbody tr th:only-of-type {\n",
       "        vertical-align: middle;\n",
       "    }\n",
       "\n",
       "    .dataframe tbody tr th {\n",
       "        vertical-align: top;\n",
       "    }\n",
       "\n",
       "    .dataframe thead th {\n",
       "        text-align: right;\n",
       "    }\n",
       "</style>\n",
       "<table border=\"1\" class=\"dataframe\">\n",
       "  <thead>\n",
       "    <tr style=\"text-align: right;\">\n",
       "      <th></th>\n",
       "      <th>bib</th>\n",
       "      <th>name</th>\n",
       "      <th>gender</th>\n",
       "      <th>category</th>\n",
       "      <th>status</th>\n",
       "      <th>rank_abs</th>\n",
       "      <th>result</th>\n",
       "      <th>result_time</th>\n",
       "      <th>team</th>\n",
       "      <th>club</th>\n",
       "    </tr>\n",
       "  </thead>\n",
       "  <tbody>\n",
       "    <tr>\n",
       "      <th>203</th>\n",
       "      <td>748</td>\n",
       "      <td>Кузнецов Виктор</td>\n",
       "      <td>male</td>\n",
       "      <td>None</td>\n",
       "      <td>ESPLIT</td>\n",
       "      <td>NaN</td>\n",
       "      <td>—</td>\n",
       "      <td>98282.97</td>\n",
       "      <td>None</td>\n",
       "      <td>None</td>\n",
       "    </tr>\n",
       "  </tbody>\n",
       "</table>\n",
       "</div>"
      ],
      "text/plain": [
       "     bib             name gender category  status  rank_abs result  \\\n",
       "203  748  Кузнецов Виктор   male     None  ESPLIT       NaN      —   \n",
       "\n",
       "     result_time  team  club  \n",
       "203     98282.97  None  None  "
      ]
     },
     "execution_count": 32,
     "metadata": {},
     "output_type": "execute_result"
    }
   ],
   "source": [
    "race1.group['C'].loc[race1.group['C'].name.str.startswith('Кузнецов В')]"
   ]
  },
  {
   "cell_type": "code",
   "execution_count": 30,
   "id": "527cf4c6-7ef8-40c4-b8dd-07b6e035554f",
   "metadata": {},
   "outputs": [
    {
     "data": {
      "text/plain": [
       "True"
      ]
     },
     "execution_count": 30,
     "metadata": {},
     "output_type": "execute_result"
    }
   ],
   "source": [
    "'Кузнецов В' in cluster_racers"
   ]
  },
  {
   "cell_type": "code",
   "execution_count": 6,
   "id": "1c16ae65-dcec-41d3-af63-b787cfee3601",
   "metadata": {},
   "outputs": [],
   "source": [
    "race2 = RaceResults.from_config(race_config['races'][0], race1.clusters)\n",
    "# difference"
   ]
  },
  {
   "cell_type": "code",
   "execution_count": 5,
   "id": "27482a69-1f58-434b-b0e7-52f594f7b1f6",
   "metadata": {},
   "outputs": [],
   "source": [
    "import os\n",
    "races = []\n",
    "cluster_distribution = deepcopy(official_clusters)\n",
    "for race in race_config['races']:\n",
    "    race = RaceResults.from_config(race, cluster_distribution)\n",
    "    race.save(os.path.join('data', race.name))\n",
    "    cluster_distribution = race.clusters\n",
    "    races.append(race)\n",
    "races.sort(key=lambda race: race.order)"
   ]
  },
  {
   "cell_type": "code",
   "execution_count": null,
   "id": "8ee00629-f6f6-4cfe-a32a-b42d83d3021a",
   "metadata": {},
   "outputs": [],
   "source": []
  },
  {
   "cell_type": "code",
   "execution_count": 7,
   "id": "65c3deb1-71a2-42eb-b703-6f99a451c50d",
   "metadata": {},
   "outputs": [
    {
     "data": {
      "text/html": [
       "<div>\n",
       "<style scoped>\n",
       "    .dataframe tbody tr th:only-of-type {\n",
       "        vertical-align: middle;\n",
       "    }\n",
       "\n",
       "    .dataframe tbody tr th {\n",
       "        vertical-align: top;\n",
       "    }\n",
       "\n",
       "    .dataframe thead th {\n",
       "        text-align: right;\n",
       "    }\n",
       "</style>\n",
       "<table border=\"1\" class=\"dataframe\">\n",
       "  <thead>\n",
       "    <tr style=\"text-align: right;\">\n",
       "      <th></th>\n",
       "      <th>bib</th>\n",
       "      <th>name</th>\n",
       "      <th>gender</th>\n",
       "      <th>category</th>\n",
       "      <th>status</th>\n",
       "      <th>rank_abs</th>\n",
       "      <th>result</th>\n",
       "      <th>result_time</th>\n",
       "      <th>team</th>\n",
       "      <th>club</th>\n",
       "    </tr>\n",
       "  </thead>\n",
       "  <tbody>\n",
       "    <tr>\n",
       "      <th>0</th>\n",
       "      <td>114</td>\n",
       "      <td>Голубев Владимир</td>\n",
       "      <td>male</td>\n",
       "      <td>M-ABS</td>\n",
       "      <td>Q</td>\n",
       "      <td>1.0</td>\n",
       "      <td>02:48:34.18</td>\n",
       "      <td>10114.186</td>\n",
       "      <td>Клуб любителей</td>\n",
       "      <td>Клуб любителей</td>\n",
       "    </tr>\n",
       "    <tr>\n",
       "      <th>1</th>\n",
       "      <td>148</td>\n",
       "      <td>Усольцев Алексей</td>\n",
       "      <td>male</td>\n",
       "      <td>M-ABS</td>\n",
       "      <td>Q</td>\n",
       "      <td>2.0</td>\n",
       "      <td>02:55:00.02</td>\n",
       "      <td>10500.023</td>\n",
       "      <td>None</td>\n",
       "      <td>None</td>\n",
       "    </tr>\n",
       "    <tr>\n",
       "      <th>2</th>\n",
       "      <td>170</td>\n",
       "      <td>Тюриков Александр</td>\n",
       "      <td>male</td>\n",
       "      <td>M-ABS</td>\n",
       "      <td>Q</td>\n",
       "      <td>3.0</td>\n",
       "      <td>02:55:00.90</td>\n",
       "      <td>10500.902</td>\n",
       "      <td>None</td>\n",
       "      <td>None</td>\n",
       "    </tr>\n",
       "    <tr>\n",
       "      <th>3</th>\n",
       "      <td>182</td>\n",
       "      <td>Добродеев Сергей</td>\n",
       "      <td>male</td>\n",
       "      <td>М5 50-54</td>\n",
       "      <td>Q</td>\n",
       "      <td>4.0</td>\n",
       "      <td>02:55:01.21</td>\n",
       "      <td>10501.217</td>\n",
       "      <td>Клуб любителей</td>\n",
       "      <td>Клуб любителей</td>\n",
       "    </tr>\n",
       "    <tr>\n",
       "      <th>4</th>\n",
       "      <td>102</td>\n",
       "      <td>Земляной Николай</td>\n",
       "      <td>male</td>\n",
       "      <td>М2 35-39</td>\n",
       "      <td>Q</td>\n",
       "      <td>5.0</td>\n",
       "      <td>02:55:01.37</td>\n",
       "      <td>10501.370</td>\n",
       "      <td>None</td>\n",
       "      <td>None</td>\n",
       "    </tr>\n",
       "    <tr>\n",
       "      <th>...</th>\n",
       "      <td>...</td>\n",
       "      <td>...</td>\n",
       "      <td>...</td>\n",
       "      <td>...</td>\n",
       "      <td>...</td>\n",
       "      <td>...</td>\n",
       "      <td>...</td>\n",
       "      <td>...</td>\n",
       "      <td>...</td>\n",
       "      <td>...</td>\n",
       "    </tr>\n",
       "    <tr>\n",
       "      <th>78</th>\n",
       "      <td>117</td>\n",
       "      <td>Милых Станислав</td>\n",
       "      <td>male</td>\n",
       "      <td>М3 40-44</td>\n",
       "      <td>DNS</td>\n",
       "      <td>NaN</td>\n",
       "      <td>None</td>\n",
       "      <td>NaN</td>\n",
       "      <td>None</td>\n",
       "      <td>None</td>\n",
       "    </tr>\n",
       "    <tr>\n",
       "      <th>79</th>\n",
       "      <td>18</td>\n",
       "      <td>Наталич Павел</td>\n",
       "      <td>male</td>\n",
       "      <td>М6 55-59</td>\n",
       "      <td>DNS</td>\n",
       "      <td>NaN</td>\n",
       "      <td>None</td>\n",
       "      <td>NaN</td>\n",
       "      <td>Магадан. Кластер B</td>\n",
       "      <td>Магадан. Кластер B</td>\n",
       "    </tr>\n",
       "    <tr>\n",
       "      <th>80</th>\n",
       "      <td>154</td>\n",
       "      <td>Никоненко Андрей</td>\n",
       "      <td>male</td>\n",
       "      <td>М4 45-49</td>\n",
       "      <td>DNS</td>\n",
       "      <td>NaN</td>\n",
       "      <td>None</td>\n",
       "      <td>NaN</td>\n",
       "      <td>None</td>\n",
       "      <td>None</td>\n",
       "    </tr>\n",
       "    <tr>\n",
       "      <th>81</th>\n",
       "      <td>105</td>\n",
       "      <td>Смирнов Владислав</td>\n",
       "      <td>male</td>\n",
       "      <td>М2 35-39</td>\n",
       "      <td>DNS</td>\n",
       "      <td>NaN</td>\n",
       "      <td>None</td>\n",
       "      <td>NaN</td>\n",
       "      <td>None</td>\n",
       "      <td>None</td>\n",
       "    </tr>\n",
       "    <tr>\n",
       "      <th>82</th>\n",
       "      <td>121</td>\n",
       "      <td>Урядов Сергей</td>\n",
       "      <td>male</td>\n",
       "      <td>М3 40-44</td>\n",
       "      <td>DNS</td>\n",
       "      <td>NaN</td>\n",
       "      <td>None</td>\n",
       "      <td>NaN</td>\n",
       "      <td>None</td>\n",
       "      <td>None</td>\n",
       "    </tr>\n",
       "  </tbody>\n",
       "</table>\n",
       "<p>83 rows × 10 columns</p>\n",
       "</div>"
      ],
      "text/plain": [
       "    bib               name gender  category status  rank_abs       result  \\\n",
       "0   114   Голубев Владимир   male     M-ABS      Q       1.0  02:48:34.18   \n",
       "1   148   Усольцев Алексей   male     M-ABS      Q       2.0  02:55:00.02   \n",
       "2   170  Тюриков Александр   male     M-ABS      Q       3.0  02:55:00.90   \n",
       "3   182   Добродеев Сергей   male  М5 50-54      Q       4.0  02:55:01.21   \n",
       "4   102   Земляной Николай   male  М2 35-39      Q       5.0  02:55:01.37   \n",
       "..  ...                ...    ...       ...    ...       ...          ...   \n",
       "78  117    Милых Станислав   male  М3 40-44    DNS       NaN         None   \n",
       "79   18      Наталич Павел   male  М6 55-59    DNS       NaN         None   \n",
       "80  154   Никоненко Андрей   male  М4 45-49    DNS       NaN         None   \n",
       "81  105  Смирнов Владислав   male  М2 35-39    DNS       NaN         None   \n",
       "82  121      Урядов Сергей   male  М3 40-44    DNS       NaN         None   \n",
       "\n",
       "    result_time                team                club  \n",
       "0     10114.186      Клуб любителей      Клуб любителей  \n",
       "1     10500.023                None                None  \n",
       "2     10500.902                None                None  \n",
       "3     10501.217      Клуб любителей      Клуб любителей  \n",
       "4     10501.370                None                None  \n",
       "..          ...                 ...                 ...  \n",
       "78          NaN                None                None  \n",
       "79          NaN  Магадан. Кластер B  Магадан. Кластер B  \n",
       "80          NaN                None                None  \n",
       "81          NaN                None                None  \n",
       "82          NaN                None                None  \n",
       "\n",
       "[83 rows x 10 columns]"
      ]
     },
     "execution_count": 7,
     "metadata": {},
     "output_type": "execute_result"
    }
   ],
   "source": [
    "race.group['B']"
   ]
  },
  {
   "cell_type": "code",
   "execution_count": null,
   "id": "bb24b804-27be-4e5f-b6ce-ad682f38a378",
   "metadata": {},
   "outputs": [],
   "source": []
  },
  {
   "cell_type": "code",
   "execution_count": null,
   "id": "c75e1141-17da-488c-bddd-3dba73bd0529",
   "metadata": {},
   "outputs": [],
   "source": []
  },
  {
   "cell_type": "code",
   "execution_count": null,
   "id": "021d95e1-b818-4a2b-84cc-9a862fcd5ca8",
   "metadata": {},
   "outputs": [],
   "source": []
  },
  {
   "cell_type": "code",
   "execution_count": 6,
   "id": "b20c985f-a2ff-4666-8f32-fd717771bd1f",
   "metadata": {},
   "outputs": [],
   "source": [
    "cluster_standing = {}\n",
    "\n",
    "for race in races:\n",
    "    for cluster, race_points in race.get_race_points().items():\n",
    "        if cluster in cluster_standing:\n",
    "            cluster_standing[cluster] = pd.merge(cluster_standing[cluster], race_points, how='outer', on='name')\n",
    "        else:\n",
    "            cluster_standing[cluster] = race_points"
   ]
  },
  {
   "cell_type": "code",
   "execution_count": 7,
   "id": "f7ec8763-549b-401c-96e8-5fb64460dd4a",
   "metadata": {},
   "outputs": [],
   "source": [
    "renamed_columns = {\n",
    "    \"name\": \"Гонщик\",\n",
    "    \"total\": \"Очки\"\n",
    "}\n",
    "\n",
    "for cluster in cluster_standing:\n",
    "    all_results = cluster_standing[cluster].set_index('name')\n",
    "    all_results['total'] = all_results.sum(axis='columns')\n",
    "    cluster_standing[cluster] = all_results.sort_values('total', ascending=False)\n"
   ]
  },
  {
   "cell_type": "code",
   "execution_count": 8,
   "id": "aaed384f-fb78-4de0-82b8-12c6681ff138",
   "metadata": {},
   "outputs": [],
   "source": [
    "writer = pd.ExcelWriter('data/current_standing.xlsx', engine = 'xlsxwriter')\n",
    "for cluster in cluster_standing:\n",
    "    cluster_standing[cluster].reset_index().to_excel(writer, sheet_name=cluster)\n",
    "\n",
    "    data = cluster_standing[cluster].reset_index().rename(renamed_columns, axis='columns')\n",
    "    data.index += 1\n",
    "    data.to_csv(f'data/cluster_{cluster}.csv')\n",
    "writer.close()"
   ]
  },
  {
   "cell_type": "code",
   "execution_count": null,
   "id": "5bb216de-5ac9-4b6a-85d7-9fe33e8e34b3",
   "metadata": {},
   "outputs": [],
   "source": []
  },
  {
   "cell_type": "code",
   "execution_count": 11,
   "id": "9e81780e-6151-4f31-b704-69f40034bfb1",
   "metadata": {},
   "outputs": [
    {
     "data": {
      "text/html": [
       "<div>\n",
       "<style scoped>\n",
       "    .dataframe tbody tr th:only-of-type {\n",
       "        vertical-align: middle;\n",
       "    }\n",
       "\n",
       "    .dataframe tbody tr th {\n",
       "        vertical-align: top;\n",
       "    }\n",
       "\n",
       "    .dataframe thead th {\n",
       "        text-align: right;\n",
       "    }\n",
       "</style>\n",
       "<table border=\"1\" class=\"dataframe\">\n",
       "  <thead>\n",
       "    <tr style=\"text-align: right;\">\n",
       "      <th></th>\n",
       "      <th>bib</th>\n",
       "      <th>name</th>\n",
       "      <th>gender</th>\n",
       "      <th>category</th>\n",
       "      <th>status</th>\n",
       "      <th>rank_abs</th>\n",
       "      <th>result</th>\n",
       "      <th>result_time</th>\n",
       "      <th>team</th>\n",
       "      <th>club</th>\n",
       "    </tr>\n",
       "  </thead>\n",
       "  <tbody>\n",
       "    <tr>\n",
       "      <th>22</th>\n",
       "      <td>136</td>\n",
       "      <td>Есипов Евгений</td>\n",
       "      <td>male</td>\n",
       "      <td>М4 45-49</td>\n",
       "      <td>Q</td>\n",
       "      <td>23.0</td>\n",
       "      <td>02:53:18.09</td>\n",
       "      <td>10398.097</td>\n",
       "      <td>Кластер B. HBFS Plan B</td>\n",
       "      <td>Кластер B. HBFS Plan B</td>\n",
       "    </tr>\n",
       "  </tbody>\n",
       "</table>\n",
       "</div>"
      ],
      "text/plain": [
       "    bib            name gender  category status  rank_abs       result  \\\n",
       "22  136  Есипов Евгений   male  М4 45-49      Q      23.0  02:53:18.09   \n",
       "\n",
       "    result_time                    team                    club  \n",
       "22    10398.097  Кластер B. HBFS Plan B  Кластер B. HBFS Plan B  "
      ]
     },
     "execution_count": 11,
     "metadata": {},
     "output_type": "execute_result"
    }
   ],
   "source": [
    "races[1].group['B'].loc[races[1].group['B'].name.str.startswith('Есипов')]"
   ]
  },
  {
   "cell_type": "code",
   "execution_count": 12,
   "id": "54253c25-b064-4337-98c1-245e8d5984b2",
   "metadata": {},
   "outputs": [
    {
     "data": {
      "text/html": [
       "<div>\n",
       "<style scoped>\n",
       "    .dataframe tbody tr th:only-of-type {\n",
       "        vertical-align: middle;\n",
       "    }\n",
       "\n",
       "    .dataframe tbody tr th {\n",
       "        vertical-align: top;\n",
       "    }\n",
       "\n",
       "    .dataframe thead th {\n",
       "        text-align: right;\n",
       "    }\n",
       "</style>\n",
       "<table border=\"1\" class=\"dataframe\">\n",
       "  <thead>\n",
       "    <tr style=\"text-align: right;\">\n",
       "      <th></th>\n",
       "      <th>bib</th>\n",
       "      <th>name</th>\n",
       "      <th>gender</th>\n",
       "      <th>category</th>\n",
       "      <th>status</th>\n",
       "      <th>rank_abs</th>\n",
       "      <th>result</th>\n",
       "      <th>result_time</th>\n",
       "      <th>team</th>\n",
       "      <th>club</th>\n",
       "      <th>cluster</th>\n",
       "    </tr>\n",
       "  </thead>\n",
       "  <tbody>\n",
       "    <tr>\n",
       "      <th>58</th>\n",
       "      <td>179</td>\n",
       "      <td>Есипов Евгений</td>\n",
       "      <td>male</td>\n",
       "      <td>М4 45-49</td>\n",
       "      <td>Q</td>\n",
       "      <td>59.0</td>\n",
       "      <td>00:41:16.29</td>\n",
       "      <td>2476.299</td>\n",
       "      <td>HBFS</td>\n",
       "      <td>HBFS</td>\n",
       "      <td>B</td>\n",
       "    </tr>\n",
       "  </tbody>\n",
       "</table>\n",
       "</div>"
      ],
      "text/plain": [
       "    bib            name gender  category status  rank_abs       result  \\\n",
       "58  179  Есипов Евгений   male  М4 45-49      Q      59.0  00:41:16.29   \n",
       "\n",
       "    result_time  team  club cluster  \n",
       "58     2476.299  HBFS  HBFS       B  "
      ]
     },
     "execution_count": 12,
     "metadata": {},
     "output_type": "execute_result"
    }
   ],
   "source": [
    "races[1].tt.loc[races[1].tt.name.str.startswith('Есипов')]"
   ]
  },
  {
   "cell_type": "code",
   "execution_count": 13,
   "id": "d7232877-b082-4b7e-b6a3-64b2e450442b",
   "metadata": {},
   "outputs": [
    {
     "data": {
      "text/plain": [
       "['B']"
      ]
     },
     "execution_count": 13,
     "metadata": {},
     "output_type": "execute_result"
    }
   ],
   "source": [
    "list(filter(lambda clust: 'Есипов Е' in races[1].clusters[clust], races[1].clusters))"
   ]
  },
  {
   "cell_type": "markdown",
   "id": "85fcf016-a764-401c-bec3-f0940ea3464c",
   "metadata": {},
   "source": [
    "# Менялись ли кластеры между гонок"
   ]
  },
  {
   "cell_type": "code",
   "execution_count": 16,
   "id": "3c9d3183-7fb5-4b58-8e74-9a9b4e3cc827",
   "metadata": {},
   "outputs": [],
   "source": [
    "from functools import reduce\n",
    "all_dfs = reduce(lambda  left,right: pd.merge(left,right, on=['name'], how='outer'), (pd.concat(dfs) for race_name, dfs in all_results.items()))"
   ]
  },
  {
   "cell_type": "code",
   "execution_count": 22,
   "id": "0ff0b67f-6c7a-4bc7-bca7-e5b8e1a2f29c",
   "metadata": {},
   "outputs": [],
   "source": [
    "all_results = defaultdict(list)\n",
    "for race in race_results['groups']:\n",
    "    for cluster, results in race.results.items():\n",
    "        set_tt_cluster(results, official_clusters, 'fixed_cluster')\n",
    "        set_tt_cluster(results, original_off_clusters, 'official_cluster')\n",
    "        results['real_cluster'] = cluster\n",
    "        all_results[race.name].append(results.loc[:, ['name', 'real_cluster']].rename({'real_cluster': race.name}, axis=1))"
   ]
  },
  {
   "cell_type": "code",
   "execution_count": 23,
   "id": "ba9c16fb-e18a-4d50-bc81-75267aa5be87",
   "metadata": {},
   "outputs": [
    {
     "data": {
      "text/html": [
       "<div>\n",
       "<style scoped>\n",
       "    .dataframe tbody tr th:only-of-type {\n",
       "        vertical-align: middle;\n",
       "    }\n",
       "\n",
       "    .dataframe tbody tr th {\n",
       "        vertical-align: top;\n",
       "    }\n",
       "\n",
       "    .dataframe thead th {\n",
       "        text-align: right;\n",
       "    }\n",
       "</style>\n",
       "<table border=\"1\" class=\"dataframe\">\n",
       "  <thead>\n",
       "    <tr style=\"text-align: right;\">\n",
       "      <th></th>\n",
       "      <th>name</th>\n",
       "      <th>Садовое кольцо</th>\n",
       "      <th>Верея</th>\n",
       "      <th>Дубна</th>\n",
       "    </tr>\n",
       "  </thead>\n",
       "  <tbody>\n",
       "    <tr>\n",
       "      <th>78</th>\n",
       "      <td>Сальников Роман</td>\n",
       "      <td>A</td>\n",
       "      <td>A</td>\n",
       "      <td>B</td>\n",
       "    </tr>\n",
       "    <tr>\n",
       "      <th>156</th>\n",
       "      <td>Карпов Антон</td>\n",
       "      <td>A</td>\n",
       "      <td>A</td>\n",
       "      <td>B</td>\n",
       "    </tr>\n",
       "    <tr>\n",
       "      <th>370</th>\n",
       "      <td>Дмитриев Андрей</td>\n",
       "      <td>C</td>\n",
       "      <td>C</td>\n",
       "      <td>B</td>\n",
       "    </tr>\n",
       "    <tr>\n",
       "      <th>712</th>\n",
       "      <td>Худиев Омар</td>\n",
       "      <td>NaN</td>\n",
       "      <td>B</td>\n",
       "      <td>A</td>\n",
       "    </tr>\n",
       "    <tr>\n",
       "      <th>188</th>\n",
       "      <td>Попов Сергей</td>\n",
       "      <td>C</td>\n",
       "      <td>B</td>\n",
       "      <td>B</td>\n",
       "    </tr>\n",
       "    <tr>\n",
       "      <th>362</th>\n",
       "      <td>Нечаев Виктор</td>\n",
       "      <td>C</td>\n",
       "      <td>B</td>\n",
       "      <td>B</td>\n",
       "    </tr>\n",
       "    <tr>\n",
       "      <th>548</th>\n",
       "      <td>Руез Фабьен</td>\n",
       "      <td>C</td>\n",
       "      <td>A</td>\n",
       "      <td>NaN</td>\n",
       "    </tr>\n",
       "  </tbody>\n",
       "</table>\n",
       "</div>"
      ],
      "text/plain": [
       "                name Садовое кольцо Верея Дубна\n",
       "78   Сальников Роман              A     A     B\n",
       "156     Карпов Антон              A     A     B\n",
       "370  Дмитриев Андрей              C     C     B\n",
       "712      Худиев Омар            NaN     B     A\n",
       "188     Попов Сергей              C     B     B\n",
       "362    Нечаев Виктор              C     B     B\n",
       "548      Руез Фабьен              C     A   NaN"
      ]
     },
     "execution_count": 23,
     "metadata": {},
     "output_type": "execute_result"
    }
   ],
   "source": [
    "pd.concat([\n",
    "    all_dfs.loc[(all_dfs['Дубна'] != all_dfs['Верея']) & ~all_dfs['Дубна'].isna() & ~all_dfs['Верея'].isna()],\n",
    "    all_dfs.loc[(all_dfs['Садовое кольцо'] != all_dfs['Верея']) & ~all_dfs['Садовое кольцо'].isna() & ~all_dfs['Верея'].isna()],\n",
    "    all_dfs.loc[(all_dfs['Дубна'] != all_dfs['Верея']) & ~all_dfs['Дубна'].isna() & ~all_dfs['Верея'].isna()]\n",
    "]).drop_duplicates()"
   ]
  },
  {
   "cell_type": "code",
   "execution_count": null,
   "id": "1cf2aecc-39ad-40e6-afa0-84f42b9b6b0e",
   "metadata": {},
   "outputs": [],
   "source": []
  },
  {
   "cell_type": "code",
   "execution_count": null,
   "id": "49dc1c38-3bf9-4074-a459-cbed6d63dd70",
   "metadata": {},
   "outputs": [],
   "source": []
  },
  {
   "cell_type": "code",
   "execution_count": null,
   "id": "6c3d9c96-8231-44a7-9c2f-eb9c95ac142f",
   "metadata": {},
   "outputs": [],
   "source": []
  },
  {
   "cell_type": "code",
   "execution_count": 8,
   "id": "b940a52f-5c2e-4c34-877e-f7b4378806e3",
   "metadata": {},
   "outputs": [
    {
     "name": "stdout",
     "output_type": "stream",
     "text": [
      "Requirement already satisfied: beautifulsoup4 in /opt/anaconda3/envs/DAML/lib/python3.12/site-packages (4.12.3)\n",
      "Requirement already satisfied: soupsieve>1.2 in /opt/anaconda3/envs/DAML/lib/python3.12/site-packages (from beautifulsoup4) (2.5)\n"
     ]
    }
   ],
   "source": [
    "!pip install beautifulsoup4"
   ]
  },
  {
   "cell_type": "code",
   "execution_count": 9,
   "id": "db0b9b9c-c05c-4f71-9f3e-192183e39a31",
   "metadata": {},
   "outputs": [],
   "source": [
    "from bs4 import BeautifulSoup"
   ]
  },
  {
   "cell_type": "code",
   "execution_count": 10,
   "id": "91fc4a20-b974-44aa-bba2-8491fbd9e084",
   "metadata": {},
   "outputs": [],
   "source": [
    "r = requests.get('https://results.zone/tula_shosse_2024/races/7357/results/148')"
   ]
  },
  {
   "cell_type": "code",
   "execution_count": 13,
   "id": "656c1a53-4d11-437e-9b80-17ae6817617e",
   "metadata": {},
   "outputs": [],
   "source": [
    "page_info = BeautifulSoup(r.text)"
   ]
  },
  {
   "cell_type": "code",
   "execution_count": 28,
   "id": "0a284d7f-4850-4ab6-9069-8fce65bcf88b",
   "metadata": {},
   "outputs": [],
   "source": [
    "participatn_info = page_info.find_all('section', {'class': 'card-body'})"
   ]
  },
  {
   "cell_type": "code",
   "execution_count": 21,
   "id": "091d19cc-8e34-451d-916b-e4430d229818",
   "metadata": {},
   "outputs": [
    {
     "data": {
      "text/plain": [
       "[<section class=\"card-body\" id=\"heat_results\"><div class=\"row\"><div class=\"col-8 col-xs-12 col-md-8 col-sm-6\"><h3>Результат <span class=\"badge badge-primary\">02:55:00.02</span></h3></div><div class=\"col-4 col-xs-12 col-md-4 col-sm-6 text-right\"><h4> <span title=\"Темп\">36.34 км/ч</span></h4></div></div><hr/><div><span class=\"badge badge-success\">2</span> <span class=\"text-muted\">из 69 среди всех участников</span></div><div><span class=\"badge badge-danger\">2</span> <span class=\"text-muted\">из 69 в абсолютном зачете среди <strong>мужчин</strong></span></div><div><span class=\"badge badge-warning\">2</span> <span class=\"text-muted\">из 3 в категории <strong>„M-ABS“</strong></span></div></section>,\n",
       " <section class=\"card-body\"><dl class=\"row\"><dt class=\"col-sm-3\">Номер</dt><dd class=\"col-sm-9\"><span class=\"badge badge-secondary badge-pill\">148</span></dd><dt class=\"col-sm-3\">Категория</dt><dd class=\"col-sm-9\"><span class=\"badge badge-info\">M-ABS</span></dd><dt class=\"col-sm-3\">Год рождения</dt><dd class=\"col-sm-9\">1999</dd></dl></section>]"
      ]
     },
     "execution_count": 21,
     "metadata": {},
     "output_type": "execute_result"
    }
   ],
   "source": [
    "list(participatn_info)"
   ]
  },
  {
   "cell_type": "code",
   "execution_count": 29,
   "id": "04b4080d-670a-4f15-a3e8-f66b943a2f2a",
   "metadata": {},
   "outputs": [
    {
     "data": {
      "text/plain": [
       "[[], [<dd class=\"col-sm-9\">1999</dd>]]"
      ]
     },
     "execution_count": 29,
     "metadata": {},
     "output_type": "execute_result"
    }
   ],
   "source": [
    "import re\n",
    "list(card.find_all('dd', string=re.compile(r'\\d{4}')) for card in participatn_info)"
   ]
  },
  {
   "cell_type": "code",
   "execution_count": 31,
   "id": "30940b19-75da-46fb-be89-a8b1fee60f1b",
   "metadata": {},
   "outputs": [
    {
     "data": {
      "text/plain": [
       "'1999'"
      ]
     },
     "execution_count": 31,
     "metadata": {},
     "output_type": "execute_result"
    }
   ],
   "source": [
    "page_info.find_all('dd', string=re.compile(r'\\d{4}'))[0].text"
   ]
  },
  {
   "cell_type": "code",
   "execution_count": null,
   "id": "09ff055f-22c1-43ae-b268-06fc713f5aaf",
   "metadata": {},
   "outputs": [],
   "source": []
  }
 ],
 "metadata": {
  "kernelspec": {
   "display_name": "Python 3 (ipykernel)",
   "language": "python",
   "name": "python3"
  },
  "language_info": {
   "codemirror_mode": {
    "name": "ipython",
    "version": 3
   },
   "file_extension": ".py",
   "mimetype": "text/x-python",
   "name": "python",
   "nbconvert_exporter": "python",
   "pygments_lexer": "ipython3",
   "version": "3.12.4"
  }
 },
 "nbformat": 4,
 "nbformat_minor": 5
}
